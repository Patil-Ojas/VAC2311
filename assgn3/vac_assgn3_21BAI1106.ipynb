{
  "nbformat": 4,
  "nbformat_minor": 0,
  "metadata": {
    "colab": {
      "provenance": []
    },
    "kernelspec": {
      "name": "python3",
      "display_name": "Python 3"
    },
    "language_info": {
      "name": "python"
    }
  },
  "cells": [
    {
      "cell_type": "markdown",
      "source": [
        "# Big data distribution- Json, Pyspark aggregate functions\n",
        "\n",
        "Name - Ojas Patil\n",
        "\n",
        "Reg No - 21BAI1106"
      ],
      "metadata": {
        "id": "qehw9qh2eQun"
      }
    },
    {
      "cell_type": "code",
      "execution_count": 1,
      "metadata": {
        "colab": {
          "base_uri": "https://localhost:8080/"
        },
        "id": "ZwaVYaYeG9MJ",
        "outputId": "83762a67-c812-4ce6-aba6-7a70a18eb91c"
      },
      "outputs": [
        {
          "output_type": "stream",
          "name": "stdout",
          "text": [
            "Collecting pyspark\n",
            "  Downloading pyspark-3.5.0.tar.gz (316.9 MB)\n",
            "\u001b[2K     \u001b[90m━━━━━━━━━━━━━━━━━━━━━━━━━━━━━━━━━━━━━━━━\u001b[0m \u001b[32m316.9/316.9 MB\u001b[0m \u001b[31m4.6 MB/s\u001b[0m eta \u001b[36m0:00:00\u001b[0m\n",
            "\u001b[?25h  Preparing metadata (setup.py) ... \u001b[?25l\u001b[?25hdone\n",
            "Requirement already satisfied: py4j==0.10.9.7 in /usr/local/lib/python3.10/dist-packages (from pyspark) (0.10.9.7)\n",
            "Building wheels for collected packages: pyspark\n",
            "  Building wheel for pyspark (setup.py) ... \u001b[?25l\u001b[?25hdone\n",
            "  Created wheel for pyspark: filename=pyspark-3.5.0-py2.py3-none-any.whl size=317425344 sha256=b2f41ae28597546c21137cd5552d6c3f51736a939e88ca835bd167d8694ee85c\n",
            "  Stored in directory: /root/.cache/pip/wheels/41/4e/10/c2cf2467f71c678cfc8a6b9ac9241e5e44a01940da8fbb17fc\n",
            "Successfully built pyspark\n",
            "Installing collected packages: pyspark\n",
            "Successfully installed pyspark-3.5.0\n"
          ]
        }
      ],
      "source": [
        "!pip install pyspark"
      ]
    },
    {
      "cell_type": "markdown",
      "source": [
        "## Create your own JSON file containing 20 records based on the syntax. Using Pyspark, create a spark session, load the Json file and define its schema, and perform the following operations on it.\n",
        "\n",
        "1. Json to data frame\n",
        "2. Use Json_normalise function\n",
        "3. To_json\n",
        "4. From_json\n",
        "5. json_tuple\n",
        "6. get_json_object\n",
        "7. Schema_of_json"
      ],
      "metadata": {
        "id": "7t7ToVBwel_H"
      }
    },
    {
      "cell_type": "code",
      "source": [
        "from pyspark.sql import SparkSession\n",
        "from pyspark.sql.types import StructType, StructField, StringType, IntegerType"
      ],
      "metadata": {
        "id": "TK5V68k6ejmS"
      },
      "execution_count": 2,
      "outputs": []
    },
    {
      "cell_type": "code",
      "source": [
        "spark = SparkSession.builder.appName(\"ReadJson\").getOrCreate()"
      ],
      "metadata": {
        "id": "yM0dn_dwf7oJ"
      },
      "execution_count": 3,
      "outputs": []
    },
    {
      "cell_type": "code",
      "source": [
        "schema = StructType([\n",
        "    StructField(\"name\", StringType(), True),\n",
        "    StructField(\"age\", IntegerType(), True),\n",
        "    StructField(\"city\", StringType(), True)\n",
        "])"
      ],
      "metadata": {
        "id": "Obic95KJgAJb"
      },
      "execution_count": 4,
      "outputs": []
    },
    {
      "cell_type": "code",
      "source": [
        "json_file_path = \"/content/people.json\"\n",
        "df = spark.read.json(json_file_path, schema=schema)\n",
        "df.show()"
      ],
      "metadata": {
        "colab": {
          "base_uri": "https://localhost:8080/"
        },
        "id": "pg3WbtRVgD-N",
        "outputId": "6c1bc2d5-e920-4a18-bc5f-c196ff75a776"
      },
      "execution_count": 6,
      "outputs": [
        {
          "output_type": "stream",
          "name": "stdout",
          "text": [
            "+------+----+----------+\n",
            "|  name| age|      city|\n",
            "+------+----+----------+\n",
            "|  NULL|NULL|      NULL|\n",
            "|   Dev|  35|   Chennai|\n",
            "|  Hari|  32|      Pune|\n",
            "|Bhavya|  30|     Delhi|\n",
            "| Sanya|  21| Ahmedabad|\n",
            "|Ishaan|  29|    Jaipur|\n",
            "| Qamar|  34|    Kanpur|\n",
            "|  Neha|  36|    Indore|\n",
            "|  Esha|  22| Bangalore|\n",
            "|  Jaya|  38|   Lucknow|\n",
            "| Gauri|  26| Ahmedabad|\n",
            "|Farhan|  40| Hyderabad|\n",
            "| Omkar|  23|    Jaipur|\n",
            "|Preeti|  31|     Surat|\n",
            "| Leela|  33|    Bhopal|\n",
            "|   Raj|  37|    Nagpur|\n",
            "|Manish|  27|     Patna|\n",
            "| Kabir|  24|Chandigarh|\n",
            "|Tushar|  39|   Lucknow|\n",
            "| Aarav|  25|    Mumbai|\n",
            "+------+----+----------+\n",
            "only showing top 20 rows\n",
            "\n"
          ]
        }
      ]
    },
    {
      "cell_type": "code",
      "source": [
        "import pandas as pd\n",
        "\n",
        "pandas_df = df.toPandas()\n",
        "pandas_df.head()"
      ],
      "metadata": {
        "colab": {
          "base_uri": "https://localhost:8080/",
          "height": 206
        },
        "id": "Ty5HcwXLgMsZ",
        "outputId": "40e9ee6f-f65d-468a-d915-17844b773dc7"
      },
      "execution_count": 7,
      "outputs": [
        {
          "output_type": "execute_result",
          "data": {
            "text/plain": [
              "     name   age       city\n",
              "0    None   NaN       None\n",
              "1     Dev  35.0    Chennai\n",
              "2    Hari  32.0       Pune\n",
              "3  Bhavya  30.0      Delhi\n",
              "4   Sanya  21.0  Ahmedabad"
            ],
            "text/html": [
              "\n",
              "  <div id=\"df-de9779e7-d91d-4545-b521-7def02b06b52\" class=\"colab-df-container\">\n",
              "    <div>\n",
              "<style scoped>\n",
              "    .dataframe tbody tr th:only-of-type {\n",
              "        vertical-align: middle;\n",
              "    }\n",
              "\n",
              "    .dataframe tbody tr th {\n",
              "        vertical-align: top;\n",
              "    }\n",
              "\n",
              "    .dataframe thead th {\n",
              "        text-align: right;\n",
              "    }\n",
              "</style>\n",
              "<table border=\"1\" class=\"dataframe\">\n",
              "  <thead>\n",
              "    <tr style=\"text-align: right;\">\n",
              "      <th></th>\n",
              "      <th>name</th>\n",
              "      <th>age</th>\n",
              "      <th>city</th>\n",
              "    </tr>\n",
              "  </thead>\n",
              "  <tbody>\n",
              "    <tr>\n",
              "      <th>0</th>\n",
              "      <td>None</td>\n",
              "      <td>NaN</td>\n",
              "      <td>None</td>\n",
              "    </tr>\n",
              "    <tr>\n",
              "      <th>1</th>\n",
              "      <td>Dev</td>\n",
              "      <td>35.0</td>\n",
              "      <td>Chennai</td>\n",
              "    </tr>\n",
              "    <tr>\n",
              "      <th>2</th>\n",
              "      <td>Hari</td>\n",
              "      <td>32.0</td>\n",
              "      <td>Pune</td>\n",
              "    </tr>\n",
              "    <tr>\n",
              "      <th>3</th>\n",
              "      <td>Bhavya</td>\n",
              "      <td>30.0</td>\n",
              "      <td>Delhi</td>\n",
              "    </tr>\n",
              "    <tr>\n",
              "      <th>4</th>\n",
              "      <td>Sanya</td>\n",
              "      <td>21.0</td>\n",
              "      <td>Ahmedabad</td>\n",
              "    </tr>\n",
              "  </tbody>\n",
              "</table>\n",
              "</div>\n",
              "    <div class=\"colab-df-buttons\">\n",
              "\n",
              "  <div class=\"colab-df-container\">\n",
              "    <button class=\"colab-df-convert\" onclick=\"convertToInteractive('df-de9779e7-d91d-4545-b521-7def02b06b52')\"\n",
              "            title=\"Convert this dataframe to an interactive table.\"\n",
              "            style=\"display:none;\">\n",
              "\n",
              "  <svg xmlns=\"http://www.w3.org/2000/svg\" height=\"24px\" viewBox=\"0 -960 960 960\">\n",
              "    <path d=\"M120-120v-720h720v720H120Zm60-500h600v-160H180v160Zm220 220h160v-160H400v160Zm0 220h160v-160H400v160ZM180-400h160v-160H180v160Zm440 0h160v-160H620v160ZM180-180h160v-160H180v160Zm440 0h160v-160H620v160Z\"/>\n",
              "  </svg>\n",
              "    </button>\n",
              "\n",
              "  <style>\n",
              "    .colab-df-container {\n",
              "      display:flex;\n",
              "      gap: 12px;\n",
              "    }\n",
              "\n",
              "    .colab-df-convert {\n",
              "      background-color: #E8F0FE;\n",
              "      border: none;\n",
              "      border-radius: 50%;\n",
              "      cursor: pointer;\n",
              "      display: none;\n",
              "      fill: #1967D2;\n",
              "      height: 32px;\n",
              "      padding: 0 0 0 0;\n",
              "      width: 32px;\n",
              "    }\n",
              "\n",
              "    .colab-df-convert:hover {\n",
              "      background-color: #E2EBFA;\n",
              "      box-shadow: 0px 1px 2px rgba(60, 64, 67, 0.3), 0px 1px 3px 1px rgba(60, 64, 67, 0.15);\n",
              "      fill: #174EA6;\n",
              "    }\n",
              "\n",
              "    .colab-df-buttons div {\n",
              "      margin-bottom: 4px;\n",
              "    }\n",
              "\n",
              "    [theme=dark] .colab-df-convert {\n",
              "      background-color: #3B4455;\n",
              "      fill: #D2E3FC;\n",
              "    }\n",
              "\n",
              "    [theme=dark] .colab-df-convert:hover {\n",
              "      background-color: #434B5C;\n",
              "      box-shadow: 0px 1px 3px 1px rgba(0, 0, 0, 0.15);\n",
              "      filter: drop-shadow(0px 1px 2px rgba(0, 0, 0, 0.3));\n",
              "      fill: #FFFFFF;\n",
              "    }\n",
              "  </style>\n",
              "\n",
              "    <script>\n",
              "      const buttonEl =\n",
              "        document.querySelector('#df-de9779e7-d91d-4545-b521-7def02b06b52 button.colab-df-convert');\n",
              "      buttonEl.style.display =\n",
              "        google.colab.kernel.accessAllowed ? 'block' : 'none';\n",
              "\n",
              "      async function convertToInteractive(key) {\n",
              "        const element = document.querySelector('#df-de9779e7-d91d-4545-b521-7def02b06b52');\n",
              "        const dataTable =\n",
              "          await google.colab.kernel.invokeFunction('convertToInteractive',\n",
              "                                                    [key], {});\n",
              "        if (!dataTable) return;\n",
              "\n",
              "        const docLinkHtml = 'Like what you see? Visit the ' +\n",
              "          '<a target=\"_blank\" href=https://colab.research.google.com/notebooks/data_table.ipynb>data table notebook</a>'\n",
              "          + ' to learn more about interactive tables.';\n",
              "        element.innerHTML = '';\n",
              "        dataTable['output_type'] = 'display_data';\n",
              "        await google.colab.output.renderOutput(dataTable, element);\n",
              "        const docLink = document.createElement('div');\n",
              "        docLink.innerHTML = docLinkHtml;\n",
              "        element.appendChild(docLink);\n",
              "      }\n",
              "    </script>\n",
              "  </div>\n",
              "\n",
              "\n",
              "<div id=\"df-f2517b21-a20f-41bd-9ce7-fc73fef1b9cd\">\n",
              "  <button class=\"colab-df-quickchart\" onclick=\"quickchart('df-f2517b21-a20f-41bd-9ce7-fc73fef1b9cd')\"\n",
              "            title=\"Suggest charts\"\n",
              "            style=\"display:none;\">\n",
              "\n",
              "<svg xmlns=\"http://www.w3.org/2000/svg\" height=\"24px\"viewBox=\"0 0 24 24\"\n",
              "     width=\"24px\">\n",
              "    <g>\n",
              "        <path d=\"M19 3H5c-1.1 0-2 .9-2 2v14c0 1.1.9 2 2 2h14c1.1 0 2-.9 2-2V5c0-1.1-.9-2-2-2zM9 17H7v-7h2v7zm4 0h-2V7h2v10zm4 0h-2v-4h2v4z\"/>\n",
              "    </g>\n",
              "</svg>\n",
              "  </button>\n",
              "\n",
              "<style>\n",
              "  .colab-df-quickchart {\n",
              "      --bg-color: #E8F0FE;\n",
              "      --fill-color: #1967D2;\n",
              "      --hover-bg-color: #E2EBFA;\n",
              "      --hover-fill-color: #174EA6;\n",
              "      --disabled-fill-color: #AAA;\n",
              "      --disabled-bg-color: #DDD;\n",
              "  }\n",
              "\n",
              "  [theme=dark] .colab-df-quickchart {\n",
              "      --bg-color: #3B4455;\n",
              "      --fill-color: #D2E3FC;\n",
              "      --hover-bg-color: #434B5C;\n",
              "      --hover-fill-color: #FFFFFF;\n",
              "      --disabled-bg-color: #3B4455;\n",
              "      --disabled-fill-color: #666;\n",
              "  }\n",
              "\n",
              "  .colab-df-quickchart {\n",
              "    background-color: var(--bg-color);\n",
              "    border: none;\n",
              "    border-radius: 50%;\n",
              "    cursor: pointer;\n",
              "    display: none;\n",
              "    fill: var(--fill-color);\n",
              "    height: 32px;\n",
              "    padding: 0;\n",
              "    width: 32px;\n",
              "  }\n",
              "\n",
              "  .colab-df-quickchart:hover {\n",
              "    background-color: var(--hover-bg-color);\n",
              "    box-shadow: 0 1px 2px rgba(60, 64, 67, 0.3), 0 1px 3px 1px rgba(60, 64, 67, 0.15);\n",
              "    fill: var(--button-hover-fill-color);\n",
              "  }\n",
              "\n",
              "  .colab-df-quickchart-complete:disabled,\n",
              "  .colab-df-quickchart-complete:disabled:hover {\n",
              "    background-color: var(--disabled-bg-color);\n",
              "    fill: var(--disabled-fill-color);\n",
              "    box-shadow: none;\n",
              "  }\n",
              "\n",
              "  .colab-df-spinner {\n",
              "    border: 2px solid var(--fill-color);\n",
              "    border-color: transparent;\n",
              "    border-bottom-color: var(--fill-color);\n",
              "    animation:\n",
              "      spin 1s steps(1) infinite;\n",
              "  }\n",
              "\n",
              "  @keyframes spin {\n",
              "    0% {\n",
              "      border-color: transparent;\n",
              "      border-bottom-color: var(--fill-color);\n",
              "      border-left-color: var(--fill-color);\n",
              "    }\n",
              "    20% {\n",
              "      border-color: transparent;\n",
              "      border-left-color: var(--fill-color);\n",
              "      border-top-color: var(--fill-color);\n",
              "    }\n",
              "    30% {\n",
              "      border-color: transparent;\n",
              "      border-left-color: var(--fill-color);\n",
              "      border-top-color: var(--fill-color);\n",
              "      border-right-color: var(--fill-color);\n",
              "    }\n",
              "    40% {\n",
              "      border-color: transparent;\n",
              "      border-right-color: var(--fill-color);\n",
              "      border-top-color: var(--fill-color);\n",
              "    }\n",
              "    60% {\n",
              "      border-color: transparent;\n",
              "      border-right-color: var(--fill-color);\n",
              "    }\n",
              "    80% {\n",
              "      border-color: transparent;\n",
              "      border-right-color: var(--fill-color);\n",
              "      border-bottom-color: var(--fill-color);\n",
              "    }\n",
              "    90% {\n",
              "      border-color: transparent;\n",
              "      border-bottom-color: var(--fill-color);\n",
              "    }\n",
              "  }\n",
              "</style>\n",
              "\n",
              "  <script>\n",
              "    async function quickchart(key) {\n",
              "      const quickchartButtonEl =\n",
              "        document.querySelector('#' + key + ' button');\n",
              "      quickchartButtonEl.disabled = true;  // To prevent multiple clicks.\n",
              "      quickchartButtonEl.classList.add('colab-df-spinner');\n",
              "      try {\n",
              "        const charts = await google.colab.kernel.invokeFunction(\n",
              "            'suggestCharts', [key], {});\n",
              "      } catch (error) {\n",
              "        console.error('Error during call to suggestCharts:', error);\n",
              "      }\n",
              "      quickchartButtonEl.classList.remove('colab-df-spinner');\n",
              "      quickchartButtonEl.classList.add('colab-df-quickchart-complete');\n",
              "    }\n",
              "    (() => {\n",
              "      let quickchartButtonEl =\n",
              "        document.querySelector('#df-f2517b21-a20f-41bd-9ce7-fc73fef1b9cd button');\n",
              "      quickchartButtonEl.style.display =\n",
              "        google.colab.kernel.accessAllowed ? 'block' : 'none';\n",
              "    })();\n",
              "  </script>\n",
              "</div>\n",
              "    </div>\n",
              "  </div>\n"
            ]
          },
          "metadata": {},
          "execution_count": 7
        }
      ]
    },
    {
      "cell_type": "code",
      "source": [
        "normalized_df = pd.json_normalize(pandas_df[\"name\"])\n",
        "\n",
        "normalized_df[\"age\"] = pandas_df[\"age\"]\n",
        "normalized_df[\"city\"] = pandas_df[\"city\"]\n",
        "\n",
        "normalized_df.head()"
      ],
      "metadata": {
        "colab": {
          "base_uri": "https://localhost:8080/",
          "height": 206
        },
        "id": "FeA3eSXjhHF9",
        "outputId": "e3382122-054e-4813-cfdb-2d537fa1c2ce"
      },
      "execution_count": 8,
      "outputs": [
        {
          "output_type": "execute_result",
          "data": {
            "text/plain": [
              "    age       city\n",
              "0   NaN       None\n",
              "1  35.0    Chennai\n",
              "2  32.0       Pune\n",
              "3  30.0      Delhi\n",
              "4  21.0  Ahmedabad"
            ],
            "text/html": [
              "\n",
              "  <div id=\"df-5ece6fdc-0453-48fd-84f5-050e89895dbd\" class=\"colab-df-container\">\n",
              "    <div>\n",
              "<style scoped>\n",
              "    .dataframe tbody tr th:only-of-type {\n",
              "        vertical-align: middle;\n",
              "    }\n",
              "\n",
              "    .dataframe tbody tr th {\n",
              "        vertical-align: top;\n",
              "    }\n",
              "\n",
              "    .dataframe thead th {\n",
              "        text-align: right;\n",
              "    }\n",
              "</style>\n",
              "<table border=\"1\" class=\"dataframe\">\n",
              "  <thead>\n",
              "    <tr style=\"text-align: right;\">\n",
              "      <th></th>\n",
              "      <th>age</th>\n",
              "      <th>city</th>\n",
              "    </tr>\n",
              "  </thead>\n",
              "  <tbody>\n",
              "    <tr>\n",
              "      <th>0</th>\n",
              "      <td>NaN</td>\n",
              "      <td>None</td>\n",
              "    </tr>\n",
              "    <tr>\n",
              "      <th>1</th>\n",
              "      <td>35.0</td>\n",
              "      <td>Chennai</td>\n",
              "    </tr>\n",
              "    <tr>\n",
              "      <th>2</th>\n",
              "      <td>32.0</td>\n",
              "      <td>Pune</td>\n",
              "    </tr>\n",
              "    <tr>\n",
              "      <th>3</th>\n",
              "      <td>30.0</td>\n",
              "      <td>Delhi</td>\n",
              "    </tr>\n",
              "    <tr>\n",
              "      <th>4</th>\n",
              "      <td>21.0</td>\n",
              "      <td>Ahmedabad</td>\n",
              "    </tr>\n",
              "  </tbody>\n",
              "</table>\n",
              "</div>\n",
              "    <div class=\"colab-df-buttons\">\n",
              "\n",
              "  <div class=\"colab-df-container\">\n",
              "    <button class=\"colab-df-convert\" onclick=\"convertToInteractive('df-5ece6fdc-0453-48fd-84f5-050e89895dbd')\"\n",
              "            title=\"Convert this dataframe to an interactive table.\"\n",
              "            style=\"display:none;\">\n",
              "\n",
              "  <svg xmlns=\"http://www.w3.org/2000/svg\" height=\"24px\" viewBox=\"0 -960 960 960\">\n",
              "    <path d=\"M120-120v-720h720v720H120Zm60-500h600v-160H180v160Zm220 220h160v-160H400v160Zm0 220h160v-160H400v160ZM180-400h160v-160H180v160Zm440 0h160v-160H620v160ZM180-180h160v-160H180v160Zm440 0h160v-160H620v160Z\"/>\n",
              "  </svg>\n",
              "    </button>\n",
              "\n",
              "  <style>\n",
              "    .colab-df-container {\n",
              "      display:flex;\n",
              "      gap: 12px;\n",
              "    }\n",
              "\n",
              "    .colab-df-convert {\n",
              "      background-color: #E8F0FE;\n",
              "      border: none;\n",
              "      border-radius: 50%;\n",
              "      cursor: pointer;\n",
              "      display: none;\n",
              "      fill: #1967D2;\n",
              "      height: 32px;\n",
              "      padding: 0 0 0 0;\n",
              "      width: 32px;\n",
              "    }\n",
              "\n",
              "    .colab-df-convert:hover {\n",
              "      background-color: #E2EBFA;\n",
              "      box-shadow: 0px 1px 2px rgba(60, 64, 67, 0.3), 0px 1px 3px 1px rgba(60, 64, 67, 0.15);\n",
              "      fill: #174EA6;\n",
              "    }\n",
              "\n",
              "    .colab-df-buttons div {\n",
              "      margin-bottom: 4px;\n",
              "    }\n",
              "\n",
              "    [theme=dark] .colab-df-convert {\n",
              "      background-color: #3B4455;\n",
              "      fill: #D2E3FC;\n",
              "    }\n",
              "\n",
              "    [theme=dark] .colab-df-convert:hover {\n",
              "      background-color: #434B5C;\n",
              "      box-shadow: 0px 1px 3px 1px rgba(0, 0, 0, 0.15);\n",
              "      filter: drop-shadow(0px 1px 2px rgba(0, 0, 0, 0.3));\n",
              "      fill: #FFFFFF;\n",
              "    }\n",
              "  </style>\n",
              "\n",
              "    <script>\n",
              "      const buttonEl =\n",
              "        document.querySelector('#df-5ece6fdc-0453-48fd-84f5-050e89895dbd button.colab-df-convert');\n",
              "      buttonEl.style.display =\n",
              "        google.colab.kernel.accessAllowed ? 'block' : 'none';\n",
              "\n",
              "      async function convertToInteractive(key) {\n",
              "        const element = document.querySelector('#df-5ece6fdc-0453-48fd-84f5-050e89895dbd');\n",
              "        const dataTable =\n",
              "          await google.colab.kernel.invokeFunction('convertToInteractive',\n",
              "                                                    [key], {});\n",
              "        if (!dataTable) return;\n",
              "\n",
              "        const docLinkHtml = 'Like what you see? Visit the ' +\n",
              "          '<a target=\"_blank\" href=https://colab.research.google.com/notebooks/data_table.ipynb>data table notebook</a>'\n",
              "          + ' to learn more about interactive tables.';\n",
              "        element.innerHTML = '';\n",
              "        dataTable['output_type'] = 'display_data';\n",
              "        await google.colab.output.renderOutput(dataTable, element);\n",
              "        const docLink = document.createElement('div');\n",
              "        docLink.innerHTML = docLinkHtml;\n",
              "        element.appendChild(docLink);\n",
              "      }\n",
              "    </script>\n",
              "  </div>\n",
              "\n",
              "\n",
              "<div id=\"df-7f542ca1-3380-46d4-9123-c3c647f8cced\">\n",
              "  <button class=\"colab-df-quickchart\" onclick=\"quickchart('df-7f542ca1-3380-46d4-9123-c3c647f8cced')\"\n",
              "            title=\"Suggest charts\"\n",
              "            style=\"display:none;\">\n",
              "\n",
              "<svg xmlns=\"http://www.w3.org/2000/svg\" height=\"24px\"viewBox=\"0 0 24 24\"\n",
              "     width=\"24px\">\n",
              "    <g>\n",
              "        <path d=\"M19 3H5c-1.1 0-2 .9-2 2v14c0 1.1.9 2 2 2h14c1.1 0 2-.9 2-2V5c0-1.1-.9-2-2-2zM9 17H7v-7h2v7zm4 0h-2V7h2v10zm4 0h-2v-4h2v4z\"/>\n",
              "    </g>\n",
              "</svg>\n",
              "  </button>\n",
              "\n",
              "<style>\n",
              "  .colab-df-quickchart {\n",
              "      --bg-color: #E8F0FE;\n",
              "      --fill-color: #1967D2;\n",
              "      --hover-bg-color: #E2EBFA;\n",
              "      --hover-fill-color: #174EA6;\n",
              "      --disabled-fill-color: #AAA;\n",
              "      --disabled-bg-color: #DDD;\n",
              "  }\n",
              "\n",
              "  [theme=dark] .colab-df-quickchart {\n",
              "      --bg-color: #3B4455;\n",
              "      --fill-color: #D2E3FC;\n",
              "      --hover-bg-color: #434B5C;\n",
              "      --hover-fill-color: #FFFFFF;\n",
              "      --disabled-bg-color: #3B4455;\n",
              "      --disabled-fill-color: #666;\n",
              "  }\n",
              "\n",
              "  .colab-df-quickchart {\n",
              "    background-color: var(--bg-color);\n",
              "    border: none;\n",
              "    border-radius: 50%;\n",
              "    cursor: pointer;\n",
              "    display: none;\n",
              "    fill: var(--fill-color);\n",
              "    height: 32px;\n",
              "    padding: 0;\n",
              "    width: 32px;\n",
              "  }\n",
              "\n",
              "  .colab-df-quickchart:hover {\n",
              "    background-color: var(--hover-bg-color);\n",
              "    box-shadow: 0 1px 2px rgba(60, 64, 67, 0.3), 0 1px 3px 1px rgba(60, 64, 67, 0.15);\n",
              "    fill: var(--button-hover-fill-color);\n",
              "  }\n",
              "\n",
              "  .colab-df-quickchart-complete:disabled,\n",
              "  .colab-df-quickchart-complete:disabled:hover {\n",
              "    background-color: var(--disabled-bg-color);\n",
              "    fill: var(--disabled-fill-color);\n",
              "    box-shadow: none;\n",
              "  }\n",
              "\n",
              "  .colab-df-spinner {\n",
              "    border: 2px solid var(--fill-color);\n",
              "    border-color: transparent;\n",
              "    border-bottom-color: var(--fill-color);\n",
              "    animation:\n",
              "      spin 1s steps(1) infinite;\n",
              "  }\n",
              "\n",
              "  @keyframes spin {\n",
              "    0% {\n",
              "      border-color: transparent;\n",
              "      border-bottom-color: var(--fill-color);\n",
              "      border-left-color: var(--fill-color);\n",
              "    }\n",
              "    20% {\n",
              "      border-color: transparent;\n",
              "      border-left-color: var(--fill-color);\n",
              "      border-top-color: var(--fill-color);\n",
              "    }\n",
              "    30% {\n",
              "      border-color: transparent;\n",
              "      border-left-color: var(--fill-color);\n",
              "      border-top-color: var(--fill-color);\n",
              "      border-right-color: var(--fill-color);\n",
              "    }\n",
              "    40% {\n",
              "      border-color: transparent;\n",
              "      border-right-color: var(--fill-color);\n",
              "      border-top-color: var(--fill-color);\n",
              "    }\n",
              "    60% {\n",
              "      border-color: transparent;\n",
              "      border-right-color: var(--fill-color);\n",
              "    }\n",
              "    80% {\n",
              "      border-color: transparent;\n",
              "      border-right-color: var(--fill-color);\n",
              "      border-bottom-color: var(--fill-color);\n",
              "    }\n",
              "    90% {\n",
              "      border-color: transparent;\n",
              "      border-bottom-color: var(--fill-color);\n",
              "    }\n",
              "  }\n",
              "</style>\n",
              "\n",
              "  <script>\n",
              "    async function quickchart(key) {\n",
              "      const quickchartButtonEl =\n",
              "        document.querySelector('#' + key + ' button');\n",
              "      quickchartButtonEl.disabled = true;  // To prevent multiple clicks.\n",
              "      quickchartButtonEl.classList.add('colab-df-spinner');\n",
              "      try {\n",
              "        const charts = await google.colab.kernel.invokeFunction(\n",
              "            'suggestCharts', [key], {});\n",
              "      } catch (error) {\n",
              "        console.error('Error during call to suggestCharts:', error);\n",
              "      }\n",
              "      quickchartButtonEl.classList.remove('colab-df-spinner');\n",
              "      quickchartButtonEl.classList.add('colab-df-quickchart-complete');\n",
              "    }\n",
              "    (() => {\n",
              "      let quickchartButtonEl =\n",
              "        document.querySelector('#df-7f542ca1-3380-46d4-9123-c3c647f8cced button');\n",
              "      quickchartButtonEl.style.display =\n",
              "        google.colab.kernel.accessAllowed ? 'block' : 'none';\n",
              "    })();\n",
              "  </script>\n",
              "</div>\n",
              "    </div>\n",
              "  </div>\n"
            ]
          },
          "metadata": {},
          "execution_count": 8
        }
      ]
    },
    {
      "cell_type": "code",
      "source": [
        "from pyspark.sql.functions import to_json\n",
        "\n",
        "json_string_column = to_json(\"Hello this is testing\")\n",
        "print(json_string_column)"
      ],
      "metadata": {
        "colab": {
          "base_uri": "https://localhost:8080/"
        },
        "id": "ZKPK96exhT_N",
        "outputId": "94e0d95b-3015-4e70-969e-60588b759d78"
      },
      "execution_count": 9,
      "outputs": [
        {
          "output_type": "stream",
          "name": "stdout",
          "text": [
            "Column<'to_json(Hello this is testing)'>\n"
          ]
        }
      ]
    },
    {
      "cell_type": "code",
      "source": [
        "from pyspark.sql.functions import from_json\n",
        "\n",
        "parsed_df = df.withColumn(\"new_name\", from_json(\"name\", schema))\n",
        "print(parsed_df)"
      ],
      "metadata": {
        "colab": {
          "base_uri": "https://localhost:8080/"
        },
        "id": "haGjQAE8huki",
        "outputId": "849efe31-618a-46c1-ba75-90fdd3160ac5"
      },
      "execution_count": 13,
      "outputs": [
        {
          "output_type": "stream",
          "name": "stdout",
          "text": [
            "DataFrame[name: string, age: int, city: string, new_name: struct<name:string,age:int,city:string>]\n"
          ]
        }
      ]
    },
    {
      "cell_type": "code",
      "source": [
        "from pyspark.sql.functions import json_tuple\n",
        "\n",
        "data = [\n",
        "    (\"Dev\", '''{\"age\": 35, \"city\": \"Chennai\"}'''),\n",
        "    (\"Hari\", '''{\"age\": 32, \"city\": \"Pune\"}''')\n",
        "]\n",
        "\n",
        "df = spark.createDataFrame(data, (\"key\", \"jstring\"))\n",
        "df.select(df.key, json_tuple(df.jstring, 'f1', 'f2')).collect()"
      ],
      "metadata": {
        "colab": {
          "base_uri": "https://localhost:8080/"
        },
        "id": "HNM74MH74wFa",
        "outputId": "243ce13b-2934-414f-a76f-c7ec196e175a"
      },
      "execution_count": 44,
      "outputs": [
        {
          "output_type": "execute_result",
          "data": {
            "text/plain": [
              "[Row(key='Dev', c0=None, c1=None), Row(key='Hari', c0=None, c1=None)]"
            ]
          },
          "metadata": {},
          "execution_count": 44
        }
      ]
    },
    {
      "cell_type": "code",
      "source": [
        "from pyspark.sql.functions import get_json_object, col\n",
        "\n",
        "data = [\n",
        "    (\"Dev\", '''{\"age\": 35, \"city\": \"Chennai\"}'''),\n",
        "    (\"Hari\", '''{\"age\": 32, \"city\": \"Pune\"}''')\n",
        "]\n",
        "\n",
        "df = spark.createDataFrame(data, [\"key\", \"json_string\"])\n",
        "\n",
        "df = df.withColumn(\"f1\", get_json_object(col(\"json_string\"), \"$.f1\"))\n",
        "df = df.withColumn(\"f2\", get_json_object(col(\"json_string\"), \"$.f2\"))\n",
        "\n",
        "df.show()"
      ],
      "metadata": {
        "colab": {
          "base_uri": "https://localhost:8080/"
        },
        "id": "23PrnsCA44ff",
        "outputId": "c5a32966-6ea8-4aec-8015-3a3a26aea5ad"
      },
      "execution_count": 45,
      "outputs": [
        {
          "output_type": "stream",
          "name": "stdout",
          "text": [
            "+----+--------------------+----+----+\n",
            "| key|         json_string|  f1|  f2|\n",
            "+----+--------------------+----+----+\n",
            "| Dev|{\"age\": 35, \"city...|NULL|NULL|\n",
            "|Hari|{\"age\": 32, \"city...|NULL|NULL|\n",
            "+----+--------------------+----+----+\n",
            "\n"
          ]
        }
      ]
    },
    {
      "cell_type": "code",
      "source": [
        "data = [\n",
        "    (\"1\", '''{\"name\": \"Dev\", \"age\": 35, \"city\": \"Chennai\"}'''),\n",
        "    (\"2\", '''{\"name\": \"Hari\", \"age\": 32, \"city\": \"Pune\"}'''),\n",
        "    (\"3\", '''{\"name\": \"Alice\", \"age\": 28, \"city\": \"Bangalore\"}'''),\n",
        "    (\"4\", '''{\"name\": \"John\", \"age\": 30, \"city\": \"Mumbai\"}'''),\n",
        "    (\"5\", '''{\"name\": \"Emma\", \"age\": 27, \"city\": \"Delhi\"}''')\n",
        "]\n",
        "\n",
        "df = spark.createDataFrame(data, [\"key\", \"json_data\"])\n",
        "\n",
        "json_schema = StructType([\n",
        "    StructField(\"name\", StringType(), True),\n",
        "    StructField(\"age\", IntegerType(), True),\n",
        "    StructField(\"city\", StringType(), True)\n",
        "])\n",
        "\n",
        "df = df.withColumn(\"parsed_data\", from_json(col(\"json_data\"), json_schema))\n",
        "\n",
        "df = df.withColumn(\"name\", col(\"parsed_data.name\"))\n",
        "df = df.withColumn(\"age\", col(\"parsed_data.age\"))\n",
        "df = df.withColumn(\"city\", col(\"parsed_data.city\"))\n",
        "\n",
        "df.show()"
      ],
      "metadata": {
        "colab": {
          "base_uri": "https://localhost:8080/"
        },
        "id": "r_nZKfI18Trl",
        "outputId": "c72fd6d7-3385-44a9-bc20-ad515ad435f6"
      },
      "execution_count": 48,
      "outputs": [
        {
          "output_type": "stream",
          "name": "stdout",
          "text": [
            "+---+--------------------+--------------------+-----+---+---------+\n",
            "|key|           json_data|         parsed_data| name|age|     city|\n",
            "+---+--------------------+--------------------+-----+---+---------+\n",
            "|  1|{\"name\": \"Dev\", \"...|  {Dev, 35, Chennai}|  Dev| 35|  Chennai|\n",
            "|  2|{\"name\": \"Hari\", ...|    {Hari, 32, Pune}| Hari| 32|     Pune|\n",
            "|  3|{\"name\": \"Alice\",...|{Alice, 28, Banga...|Alice| 28|Bangalore|\n",
            "|  4|{\"name\": \"John\", ...|  {John, 30, Mumbai}| John| 30|   Mumbai|\n",
            "|  5|{\"name\": \"Emma\", ...|   {Emma, 27, Delhi}| Emma| 27|    Delhi|\n",
            "+---+--------------------+--------------------+-----+---+---------+\n",
            "\n"
          ]
        }
      ]
    },
    {
      "cell_type": "markdown",
      "source": [
        "## Using Pyspark, creast a session and schema for the \"zipcode.csv\", dataset. Using the dataset given, perform the following operations.\n",
        "\n",
        "1. Select, select first and last\n",
        "2. Sum, average and collect_set\n",
        "3. Count and distinct count\n",
        "4. Kurtosis and skewness\n",
        "5. Min, Max, standard deviation and variance"
      ],
      "metadata": {
        "id": "qzgyqwts8rQs"
      }
    },
    {
      "cell_type": "code",
      "source": [
        "df = spark.read.csv('/content/zipcodes.csv',header=True,inferSchema=True)\n",
        "df.show()"
      ],
      "metadata": {
        "colab": {
          "base_uri": "https://localhost:8080/"
        },
        "id": "NyeVI8ju8gQZ",
        "outputId": "93da2fa7-7527-40b6-d3ab-bc0f0352c7b4"
      },
      "execution_count": 49,
      "outputs": [
        {
          "output_type": "stream",
          "name": "stdout",
          "text": [
            "+------------+-------+-----------+-------------------+-----+--------------+-----+-------+-----+-----+-----+-----------+-------+--------------------+--------------------+-------------+---------------+-------------------+----------+-------------+\n",
            "|RecordNumber|Zipcode|ZipCodeType|               City|State|  LocationType|  Lat|   Long|Xaxis|Yaxis|Zaxis|WorldRegion|Country|        LocationText|            Location|Decommisioned|TaxReturnsFiled|EstimatedPopulation|TotalWages|        Notes|\n",
            "+------------+-------+-----------+-------------------+-----+--------------+-----+-------+-----+-----+-----+-----------+-------+--------------------+--------------------+-------------+---------------+-------------------+----------+-------------+\n",
            "|           1|    704|   STANDARD|        PARC PARQUE|   PR|NOT ACCEPTABLE|17.96| -66.22| 0.38|-0.87|  0.3|         NA|     US|     Parc Parque, PR|NA-US-PR-PARC PARQUE|        false|           NULL|               NULL|      NULL|         NULL|\n",
            "|           2|    704|   STANDARD|PASEO COSTA DEL SUR|   PR|NOT ACCEPTABLE|17.96| -66.22| 0.38|-0.87|  0.3|         NA|     US|Paseo Costa Del S...|NA-US-PR-PASEO CO...|        false|           NULL|               NULL|      NULL|         NULL|\n",
            "|          10|    709|   STANDARD|       BDA SAN LUIS|   PR|NOT ACCEPTABLE|18.14| -66.26| 0.38|-0.86| 0.31|         NA|     US|    Bda San Luis, PR|NA-US-PR-BDA SAN ...|        false|           NULL|               NULL|      NULL|         NULL|\n",
            "|       61391|  76166|     UNIQUE|  CINGULAR WIRELESS|   TX|NOT ACCEPTABLE|32.72| -97.31| -0.1|-0.83| 0.54|         NA|     US|Cingular Wireless...|NA-US-TX-CINGULAR...|        false|           NULL|               NULL|      NULL|         NULL|\n",
            "|       61392|  76177|   STANDARD|         FORT WORTH|   TX|       PRIMARY|32.75| -97.33| -0.1|-0.83| 0.54|         NA|     US|      Fort Worth, TX| NA-US-TX-FORT WORTH|        false|           2126|               4053| 122396986|         NULL|\n",
            "|       61393|  76177|   STANDARD|           FT WORTH|   TX|    ACCEPTABLE|32.75| -97.33| -0.1|-0.83| 0.54|         NA|     US|        Ft Worth, TX|   NA-US-TX-FT WORTH|        false|           2126|               4053| 122396986|         NULL|\n",
            "|           4|    704|   STANDARD|    URB EUGENE RICE|   PR|NOT ACCEPTABLE|17.96| -66.22| 0.38|-0.87|  0.3|         NA|     US| Urb Eugene Rice, PR|NA-US-PR-URB EUGE...|        false|           NULL|               NULL|      NULL|         NULL|\n",
            "|       39827|  85209|   STANDARD|               MESA|   AZ|       PRIMARY|33.37|-111.64| -0.3|-0.77| 0.55|         NA|     US|            Mesa, AZ|       NA-US-AZ-MESA|        false|          14962|              26883| 563792730|no NWS data, |\n",
            "|       39828|  85210|   STANDARD|               MESA|   AZ|       PRIMARY|33.38|-111.84|-0.31|-0.77| 0.55|         NA|     US|            Mesa, AZ|       NA-US-AZ-MESA|        false|          14374|              25446| 471000465|         NULL|\n",
            "|       49345|  32046|   STANDARD|           HILLIARD|   FL|       PRIMARY|30.69| -81.92| 0.12|-0.85| 0.51|         NA|     US|        Hilliard, FL|   NA-US-FL-HILLIARD|        false|           3922|               7443| 133112149|         NULL|\n",
            "|       49346|  34445|     PO BOX|             HOLDER|   FL|       PRIMARY|28.96| -82.41| 0.11|-0.86| 0.48|         NA|     US|          Holder, FL|     NA-US-FL-HOLDER|        false|           NULL|               NULL|      NULL|         NULL|\n",
            "|       49347|  32564|   STANDARD|               HOLT|   FL|       PRIMARY|30.72| -86.67| 0.04|-0.85| 0.51|         NA|     US|            Holt, FL|       NA-US-FL-HOLT|        false|           1207|               2190|  36395913|         NULL|\n",
            "|       49348|  34487|     PO BOX|          HOMOSASSA|   FL|       PRIMARY|28.78| -82.61| 0.11|-0.86| 0.48|         NA|     US|       Homosassa, FL|  NA-US-FL-HOMOSASSA|        false|           NULL|               NULL|      NULL|         NULL|\n",
            "|          10|    708|   STANDARD|       BDA SAN LUIS|   PR|NOT ACCEPTABLE|18.14| -66.26| 0.38|-0.86| 0.31|         NA|     US|    Bda San Luis, PR|NA-US-PR-BDA SAN ...|        false|           NULL|               NULL|      NULL|         NULL|\n",
            "|           3|    704|   STANDARD|      SECT LANAUSSE|   PR|NOT ACCEPTABLE|17.96| -66.22| 0.38|-0.87|  0.3|         NA|     US|   Sect Lanausse, PR|NA-US-PR-SECT LAN...|        false|           NULL|               NULL|      NULL|         NULL|\n",
            "|       54354|  36275|     PO BOX|      SPRING GARDEN|   AL|       PRIMARY|33.97| -85.55| 0.06|-0.82| 0.55|         NA|     US|   Spring Garden, AL|NA-US-AL-SPRING G...|        false|           NULL|               NULL|      NULL|         NULL|\n",
            "|       54355|  35146|   STANDARD|        SPRINGVILLE|   AL|       PRIMARY|33.77| -86.47| 0.05|-0.82| 0.55|         NA|     US|     Springville, AL|NA-US-AL-SPRINGVILLE|        false|           4046|               7845| 172127599|         NULL|\n",
            "|       54356|  35585|   STANDARD|        SPRUCE PINE|   AL|       PRIMARY|34.37| -87.69| 0.03|-0.82| 0.56|         NA|     US|     Spruce Pine, AL|NA-US-AL-SPRUCE PINE|        false|            610|               1209|  18525517|         NULL|\n",
            "|       76511|  27007|   STANDARD|           ASH HILL|   NC|NOT ACCEPTABLE| 36.4| -80.56| 0.13|-0.79| 0.59|         NA|     US|        Ash Hill, NC|   NA-US-NC-ASH HILL|        false|            842|               1666|  28876493|         NULL|\n",
            "|       76512|  27203|   STANDARD|           ASHEBORO|   NC|       PRIMARY|35.71| -79.81| 0.14|-0.79| 0.58|         NA|     US|        Asheboro, NC|   NA-US-NC-ASHEBORO|        false|           8355|              15228| 215474318|         NULL|\n",
            "+------------+-------+-----------+-------------------+-----+--------------+-----+-------+-----+-----+-----+-----------+-------+--------------------+--------------------+-------------+---------------+-------------------+----------+-------------+\n",
            "only showing top 20 rows\n",
            "\n"
          ]
        }
      ]
    },
    {
      "cell_type": "markdown",
      "source": [
        "### Q1. Select, select first and last"
      ],
      "metadata": {
        "id": "XucUpT_l99Lc"
      }
    },
    {
      "cell_type": "code",
      "source": [
        "selected_columns = df.select(\"RecordNumber\", \"City\", \"State\", \"Country\")\n",
        "selected_columns.show()\n"
      ],
      "metadata": {
        "colab": {
          "base_uri": "https://localhost:8080/"
        },
        "id": "pZEAIPE69S2n",
        "outputId": "9088c2c0-9971-4e2a-857f-490b010c952d"
      },
      "execution_count": 50,
      "outputs": [
        {
          "output_type": "stream",
          "name": "stdout",
          "text": [
            "+------------+-------------------+-----+-------+\n",
            "|RecordNumber|               City|State|Country|\n",
            "+------------+-------------------+-----+-------+\n",
            "|           1|        PARC PARQUE|   PR|     US|\n",
            "|           2|PASEO COSTA DEL SUR|   PR|     US|\n",
            "|          10|       BDA SAN LUIS|   PR|     US|\n",
            "|       61391|  CINGULAR WIRELESS|   TX|     US|\n",
            "|       61392|         FORT WORTH|   TX|     US|\n",
            "|       61393|           FT WORTH|   TX|     US|\n",
            "|           4|    URB EUGENE RICE|   PR|     US|\n",
            "|       39827|               MESA|   AZ|     US|\n",
            "|       39828|               MESA|   AZ|     US|\n",
            "|       49345|           HILLIARD|   FL|     US|\n",
            "|       49346|             HOLDER|   FL|     US|\n",
            "|       49347|               HOLT|   FL|     US|\n",
            "|       49348|          HOMOSASSA|   FL|     US|\n",
            "|          10|       BDA SAN LUIS|   PR|     US|\n",
            "|           3|      SECT LANAUSSE|   PR|     US|\n",
            "|       54354|      SPRING GARDEN|   AL|     US|\n",
            "|       54355|        SPRINGVILLE|   AL|     US|\n",
            "|       54356|        SPRUCE PINE|   AL|     US|\n",
            "|       76511|           ASH HILL|   NC|     US|\n",
            "|       76512|           ASHEBORO|   NC|     US|\n",
            "+------------+-------------------+-----+-------+\n",
            "only showing top 20 rows\n",
            "\n"
          ]
        }
      ]
    },
    {
      "cell_type": "code",
      "source": [
        "first_row = df.first()\n",
        "print(\"First Row:\")\n",
        "print(first_row)"
      ],
      "metadata": {
        "colab": {
          "base_uri": "https://localhost:8080/"
        },
        "id": "I86fviym9-S0",
        "outputId": "52f352cb-402b-4771-df2c-27bf929ade0a"
      },
      "execution_count": 51,
      "outputs": [
        {
          "output_type": "stream",
          "name": "stdout",
          "text": [
            "First Row:\n",
            "Row(RecordNumber=1, Zipcode=704, ZipCodeType='STANDARD', City='PARC PARQUE', State='PR', LocationType='NOT ACCEPTABLE', Lat=17.96, Long=-66.22, Xaxis=0.38, Yaxis=-0.87, Zaxis=0.3, WorldRegion='NA', Country='US', LocationText='Parc Parque, PR', Location='NA-US-PR-PARC PARQUE', Decommisioned=False, TaxReturnsFiled=None, EstimatedPopulation=None, TotalWages=None, Notes=None)\n"
          ]
        }
      ]
    },
    {
      "cell_type": "code",
      "source": [
        "last_row = df.collect()[-1]\n",
        "print(\"Last Row:\")\n",
        "print(last_row)"
      ],
      "metadata": {
        "colab": {
          "base_uri": "https://localhost:8080/"
        },
        "id": "h-g0TShU-AD_",
        "outputId": "bdc0387e-5866-429b-9110-c01c5353424a"
      },
      "execution_count": 52,
      "outputs": [
        {
          "output_type": "stream",
          "name": "stdout",
          "text": [
            "Last Row:\n",
            "Row(RecordNumber=76513, Zipcode=27204, ZipCodeType='PO BOX', City='ASHEBORO', State='NC', LocationType='PRIMARY', Lat=35.71, Long=-79.81, Xaxis=0.14, Yaxis=-0.79, Zaxis=0.58, WorldRegion='NA', Country='US', LocationText='Asheboro, NC', Location='NA-US-NC-ASHEBORO', Decommisioned=False, TaxReturnsFiled=1035, EstimatedPopulation=1816, TotalWages=30322473, Notes=None)\n"
          ]
        }
      ]
    },
    {
      "cell_type": "markdown",
      "source": [
        "## Q2. Sum, average and collect_set"
      ],
      "metadata": {
        "id": "WN6anT9M-GsG"
      }
    },
    {
      "cell_type": "code",
      "source": [
        "from pyspark.sql.functions import sum, avg, collect_set"
      ],
      "metadata": {
        "id": "vEaEl1Lq-X8K"
      },
      "execution_count": 56,
      "outputs": []
    },
    {
      "cell_type": "code",
      "source": [
        "sum_total_wages = df.select(sum(\"TotalWages\")).collect()[0][0]\n",
        "print(\"Sum of TotalWages:\", sum_total_wages)"
      ],
      "metadata": {
        "colab": {
          "base_uri": "https://localhost:8080/"
        },
        "id": "JlN-3rPS-CHQ",
        "outputId": "e36d0533-d92e-4e0f-eff6-f59f26a1b243"
      },
      "execution_count": 59,
      "outputs": [
        {
          "output_type": "stream",
          "name": "stdout",
          "text": [
            "Sum of TotalWages: 1914421629\n"
          ]
        }
      ]
    },
    {
      "cell_type": "code",
      "source": [
        "avg_estimated_population = df.select(avg(\"EstimatedPopulation\")).collect()[0][0]\n",
        "print(\"Average of EstimatedPopulation:\", avg_estimated_population)"
      ],
      "metadata": {
        "colab": {
          "base_uri": "https://localhost:8080/"
        },
        "id": "b0lRgsrf-ReN",
        "outputId": "2fbbdc6e-28d7-43e6-faeb-7ebb9a4fde6d"
      },
      "execution_count": 60,
      "outputs": [
        {
          "output_type": "stream",
          "name": "stdout",
          "text": [
            "Average of EstimatedPopulation: 8893.818181818182\n"
          ]
        }
      ]
    },
    {
      "cell_type": "code",
      "source": [
        "collected_city_state = df.select(collect_set(\"City\").alias(\"Cities\"), collect_set(\"State\").alias(\"States\")).collect()[0]\n",
        "print(\"Collected Cities:\", collected_city_state[\"Cities\"])\n",
        "print(\"Collected States:\", collected_city_state[\"States\"])"
      ],
      "metadata": {
        "colab": {
          "base_uri": "https://localhost:8080/"
        },
        "id": "BiGWWzuC-U5T",
        "outputId": "dda67be0-176f-46d2-b55c-e3cd06ee5146"
      },
      "execution_count": 61,
      "outputs": [
        {
          "output_type": "stream",
          "name": "stdout",
          "text": [
            "Collected Cities: ['URB EUGENE RICE', 'BDA SAN LUIS', 'SPRUCE PINE', 'HOMOSASSA', 'FORT WORTH', 'SPRINGVILLE', 'PASEO COSTA DEL SUR', 'FT WORTH', 'HILLIARD', 'SPRING GARDEN', 'CINGULAR WIRELESS', 'HOLDER', 'MESA', 'ASH HILL', 'PARC PARQUE', 'SECT LANAUSSE', 'HOLT', 'ASHEBORO']\n",
            "Collected States: ['AL', 'TX', 'NC', 'AZ', 'PR', 'FL']\n"
          ]
        }
      ]
    },
    {
      "cell_type": "markdown",
      "source": [
        "### Q3. Count and distinct count\n"
      ],
      "metadata": {
        "id": "2UBm9yLy-k7q"
      }
    },
    {
      "cell_type": "code",
      "source": [
        "from pyspark.sql.functions import count, countDistinct"
      ],
      "metadata": {
        "id": "-xoabXIY-tHF"
      },
      "execution_count": 63,
      "outputs": []
    },
    {
      "cell_type": "code",
      "source": [
        "total_rows = df.count()\n",
        "print(\"Total Rows:\", total_rows)"
      ],
      "metadata": {
        "colab": {
          "base_uri": "https://localhost:8080/"
        },
        "id": "gDCjR0UL-c8X",
        "outputId": "6d8d91f2-4ccb-48f9-8ae7-b084dafbc89d"
      },
      "execution_count": 64,
      "outputs": [
        {
          "output_type": "stream",
          "name": "stdout",
          "text": [
            "Total Rows: 21\n"
          ]
        }
      ]
    },
    {
      "cell_type": "code",
      "source": [
        "distinct_zipcodes = df.select(countDistinct(\"Zipcode\").alias(\"DistinctZipcodes\")).collect()[0][\"DistinctZipcodes\"]\n",
        "print(\"Distinct Zipcodes:\", distinct_zipcodes)"
      ],
      "metadata": {
        "colab": {
          "base_uri": "https://localhost:8080/"
        },
        "id": "DoLr_wDO-no0",
        "outputId": "2e3852ba-4297-43fd-bcf2-a9ef3c514ff2"
      },
      "execution_count": 65,
      "outputs": [
        {
          "output_type": "stream",
          "name": "stdout",
          "text": [
            "Distinct Zipcodes: 17\n"
          ]
        }
      ]
    },
    {
      "cell_type": "markdown",
      "source": [
        "### Q4. Kurtosis and skewness"
      ],
      "metadata": {
        "id": "z-PIchQd-uGh"
      }
    },
    {
      "cell_type": "code",
      "source": [
        "from pyspark.sql.functions import kurtosis, skewness"
      ],
      "metadata": {
        "id": "bhhLnS6j_MYA"
      },
      "execution_count": 71,
      "outputs": []
    },
    {
      "cell_type": "code",
      "source": [
        "kurtosis_result = df.select(kurtosis(\"Lat\").alias(\"Kurtosis_Lat\")).collect()[0]\n",
        "print(\"Kurtosis for the 'Lat' column:\", kurtosis_result[\"Kurtosis_Lat\"])"
      ],
      "metadata": {
        "colab": {
          "base_uri": "https://localhost:8080/"
        },
        "id": "Rb_ilNjA-tuy",
        "outputId": "44108f9d-f753-4781-eafd-624b3334ddb3"
      },
      "execution_count": 72,
      "outputs": [
        {
          "output_type": "stream",
          "name": "stdout",
          "text": [
            "Kurtosis for the 'Lat' column: -1.2097757752091982\n"
          ]
        }
      ]
    },
    {
      "cell_type": "code",
      "source": [
        "skewness_result = df.select(skewness(\"Lat\").alias(\"Skewness_Lat\")).collect()[0]\n",
        "print(\"Skewness for the 'Lat' column:\", skewness_result[\"Skewness_Lat\"])"
      ],
      "metadata": {
        "colab": {
          "base_uri": "https://localhost:8080/"
        },
        "id": "cfdQiRXg_LSr",
        "outputId": "28302ce3-7787-4c80-d099-4beefdea8c76"
      },
      "execution_count": 73,
      "outputs": [
        {
          "output_type": "stream",
          "name": "stdout",
          "text": [
            "Skewness for the 'Lat' column: -0.7239329176078787\n"
          ]
        }
      ]
    },
    {
      "cell_type": "markdown",
      "source": [
        "### Q5. Min, Max, standard deviation and variance\n"
      ],
      "metadata": {
        "id": "6YuViqs3_Rvn"
      }
    },
    {
      "cell_type": "code",
      "source": [
        "from pyspark.sql.functions import min, max, stddev, variance"
      ],
      "metadata": {
        "id": "IhBiXKRh_Lmo"
      },
      "execution_count": 76,
      "outputs": []
    },
    {
      "cell_type": "code",
      "source": [
        "min_max_result = df.select(min(\"TaxReturnsFiled\").alias(\"Min_TaxReturnsFiled\"), max(\"TaxReturnsFiled\").alias(\"Max_TaxReturnsFiled\")).collect()[0]\n",
        "stdvar_result = df.select(stddev(\"TaxReturnsFiled\").alias(\"StdDev_TaxReturnsFiled\"), variance(\"TaxReturnsFiled\").alias(\"Variance_TaxReturnsFiled\")).collect()[0]"
      ],
      "metadata": {
        "id": "8qwH-Sn0_c0z"
      },
      "execution_count": 77,
      "outputs": []
    },
    {
      "cell_type": "code",
      "source": [
        "min_max_result = df.select(min(\"TaxReturnsFiled\").alias(\"Min_TaxReturnsFiled\"), max(\"TaxReturnsFiled\").alias(\"Max_TaxReturnsFiled\")).collect()[0]\n",
        "stdvar_result = df.select(stddev(\"TaxReturnsFiled\").alias(\"StdDev_TaxReturnsFiled\"), variance(\"TaxReturnsFiled\").alias(\"Variance_TaxReturnsFiled\")).collect()[0]\n",
        "\n",
        "print(\"Minimum value for 'TaxReturnsFiled' column:\", min_max_result[\"Min_TaxReturnsFiled\"])\n",
        "print(\"Maximum value for 'TaxReturnsFiled' column:\", min_max_result[\"Max_TaxReturnsFiled\"])\n",
        "print(\"Standard Deviation for 'TaxReturnsFiled' column:\", stdvar_result[\"StdDev_TaxReturnsFiled\"])\n",
        "print(\"Variance for 'TaxReturnsFiled' column:\", stdvar_result[\"Variance_TaxReturnsFiled\"])"
      ],
      "metadata": {
        "colab": {
          "base_uri": "https://localhost:8080/"
        },
        "id": "DGJ45w4PCvxD",
        "outputId": "9e57e262-b56d-4be1-a8df-f43297bea712"
      },
      "execution_count": 78,
      "outputs": [
        {
          "output_type": "stream",
          "name": "stdout",
          "text": [
            "Minimum value for 'TaxReturnsFiled' column: 610\n",
            "Maximum value for 'TaxReturnsFiled' column: 14962\n",
            "Standard Deviation for 'TaxReturnsFiled' column: 5324.035345828986\n",
            "Variance for 'TaxReturnsFiled' column: 28345352.363636363\n"
          ]
        }
      ]
    }
  ]
}