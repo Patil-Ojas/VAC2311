{
  "cells": [
    {
      "cell_type": "markdown",
      "metadata": {
        "id": "l2WhsMlf0Zju"
      },
      "source": [
        "# Car Price Prediction - Geely Auto\n",
        "\n",
        "###VAC2311 - Assignment 1\n",
        "\n",
        "> Linear Regression using PySpark\n",
        ">\n",
        "> Ojas Patil - 21BAI1106\n",
        ">\n",
        "> Link - https://www.kaggle.com/code/tanmoyx/car-price-prediction-geely-auto/input"
      ]
    },
    {
      "cell_type": "code",
      "execution_count": 1,
      "metadata": {
        "colab": {
          "base_uri": "https://localhost:8080/"
        },
        "id": "WtzNaQiKyMCH",
        "outputId": "23fa8b72-99b3-4b6a-9327-165af9cc3b60"
      },
      "outputs": [
        {
          "name": "stdout",
          "output_type": "stream",
          "text": [
            "Collecting pyspark\n",
            "  Downloading pyspark-3.5.0.tar.gz (316.9 MB)\n",
            "\u001b[2K     \u001b[90m━━━━━━━━━━━━━━━━━━━━━━━━━━━━━━━━━━━━━━━━\u001b[0m \u001b[32m316.9/316.9 MB\u001b[0m \u001b[31m4.4 MB/s\u001b[0m eta \u001b[36m0:00:00\u001b[0m\n",
            "\u001b[?25h  Preparing metadata (setup.py) ... \u001b[?25l\u001b[?25hdone\n",
            "Requirement already satisfied: py4j==0.10.9.7 in /usr/local/lib/python3.10/dist-packages (from pyspark) (0.10.9.7)\n",
            "Building wheels for collected packages: pyspark\n",
            "  Building wheel for pyspark (setup.py) ... \u001b[?25l\u001b[?25hdone\n",
            "  Created wheel for pyspark: filename=pyspark-3.5.0-py2.py3-none-any.whl size=317425344 sha256=3b45e79c595a32939e2f9321c6eec8e8f49ee15941b8ac7d8fdcc3c84319a5d0\n",
            "  Stored in directory: /root/.cache/pip/wheels/41/4e/10/c2cf2467f71c678cfc8a6b9ac9241e5e44a01940da8fbb17fc\n",
            "Successfully built pyspark\n",
            "Installing collected packages: pyspark\n",
            "Successfully installed pyspark-3.5.0\n"
          ]
        }
      ],
      "source": [
        "!pip install pyspark"
      ]
    },
    {
      "cell_type": "code",
      "execution_count": 2,
      "metadata": {
        "id": "Qcd8CN9G1Y9x"
      },
      "outputs": [],
      "source": [
        "    import pyspark\n",
        "    from pyspark.sql import SparkSession\n",
        "\n",
        "    spark=SparkSession.builder.appName('CarPricePrediction').getOrCreate()"
      ]
    },
    {
      "cell_type": "code",
      "execution_count": 3,
      "metadata": {
        "colab": {
          "base_uri": "https://localhost:8080/",
          "height": 219
        },
        "id": "S7STv6ci1c_x",
        "outputId": "a49ff0d8-6071-4863-badd-fb5b6b25993a"
      },
      "outputs": [
        {
          "data": {
            "text/html": [
              "\n",
              "            <div>\n",
              "                <p><b>SparkSession - in-memory</b></p>\n",
              "                \n",
              "        <div>\n",
              "            <p><b>SparkContext</b></p>\n",
              "\n",
              "            <p><a href=\"http://f95c6fda4a26:4040\">Spark UI</a></p>\n",
              "\n",
              "            <dl>\n",
              "              <dt>Version</dt>\n",
              "                <dd><code>v3.5.0</code></dd>\n",
              "              <dt>Master</dt>\n",
              "                <dd><code>local[*]</code></dd>\n",
              "              <dt>AppName</dt>\n",
              "                <dd><code>CarPricePrediction</code></dd>\n",
              "            </dl>\n",
              "        </div>\n",
              "        \n",
              "            </div>\n",
              "        "
            ],
            "text/plain": [
              "<pyspark.sql.session.SparkSession at 0x7a91c0f6c1c0>"
            ]
          },
          "execution_count": 3,
          "metadata": {},
          "output_type": "execute_result"
        }
      ],
      "source": [
        "spark"
      ]
    },
    {
      "cell_type": "code",
      "execution_count": 5,
      "metadata": {
        "colab": {
          "base_uri": "https://localhost:8080/"
        },
        "id": "Irbf_H0m1e1u",
        "outputId": "327f047a-0574-49e4-8b58-e8c1fcf4d493"
      },
      "outputs": [
        {
          "name": "stdout",
          "output_type": "stream",
          "text": [
            "+------+---------+--------------------+--------+----------+----------+-----------+----------+--------------+---------+---------+--------+---------+----------+----------+--------------+----------+----------+---------+------+----------------+----------+-------+-------+----------+---------+\n",
            "|car_ID|symboling|             CarName|fueltype|aspiration|doornumber|    carbody|drivewheel|enginelocation|wheelbase|carlength|carwidth|carheight|curbweight|enginetype|cylindernumber|enginesize|fuelsystem|boreratio|stroke|compressionratio|horsepower|peakrpm|citympg|highwaympg|    price|\n",
            "+------+---------+--------------------+--------+----------+----------+-----------+----------+--------------+---------+---------+--------+---------+----------+----------+--------------+----------+----------+---------+------+----------------+----------+-------+-------+----------+---------+\n",
            "|     1|        3|  alfa-romero giulia|     gas|       std|       two|convertible|       rwd|         front|     88.6|    168.8|    64.1|     48.8|      2548|      dohc|          four|       130|      mpfi|     3.47|  2.68|             9.0|       111|   5000|     21|        27|  13495.0|\n",
            "|     2|        3| alfa-romero stelvio|     gas|       std|       two|convertible|       rwd|         front|     88.6|    168.8|    64.1|     48.8|      2548|      dohc|          four|       130|      mpfi|     3.47|  2.68|             9.0|       111|   5000|     21|        27|  16500.0|\n",
            "|     3|        1|alfa-romero Quadr...|     gas|       std|       two|  hatchback|       rwd|         front|     94.5|    171.2|    65.5|     52.4|      2823|      ohcv|           six|       152|      mpfi|     2.68|  3.47|             9.0|       154|   5000|     19|        26|  16500.0|\n",
            "|     4|        2|         audi 100 ls|     gas|       std|      four|      sedan|       fwd|         front|     99.8|    176.6|    66.2|     54.3|      2337|       ohc|          four|       109|      mpfi|     3.19|   3.4|            10.0|       102|   5500|     24|        30|  13950.0|\n",
            "|     5|        2|          audi 100ls|     gas|       std|      four|      sedan|       4wd|         front|     99.4|    176.6|    66.4|     54.3|      2824|       ohc|          five|       136|      mpfi|     3.19|   3.4|             8.0|       115|   5500|     18|        22|  17450.0|\n",
            "|     6|        2|            audi fox|     gas|       std|       two|      sedan|       fwd|         front|     99.8|    177.3|    66.3|     53.1|      2507|       ohc|          five|       136|      mpfi|     3.19|   3.4|             8.5|       110|   5500|     19|        25|  15250.0|\n",
            "|     7|        1|          audi 100ls|     gas|       std|      four|      sedan|       fwd|         front|    105.8|    192.7|    71.4|     55.7|      2844|       ohc|          five|       136|      mpfi|     3.19|   3.4|             8.5|       110|   5500|     19|        25|  17710.0|\n",
            "|     8|        1|           audi 5000|     gas|       std|      four|      wagon|       fwd|         front|    105.8|    192.7|    71.4|     55.7|      2954|       ohc|          five|       136|      mpfi|     3.19|   3.4|             8.5|       110|   5500|     19|        25|  18920.0|\n",
            "|     9|        1|           audi 4000|     gas|     turbo|      four|      sedan|       fwd|         front|    105.8|    192.7|    71.4|     55.9|      3086|       ohc|          five|       131|      mpfi|     3.13|   3.4|             8.3|       140|   5500|     17|        20|  23875.0|\n",
            "|    10|        0| audi 5000s (diesel)|     gas|     turbo|       two|  hatchback|       4wd|         front|     99.5|    178.2|    67.9|     52.0|      3053|       ohc|          five|       131|      mpfi|     3.13|   3.4|             7.0|       160|   5500|     16|        22|17859.167|\n",
            "|    11|        2|            bmw 320i|     gas|       std|       two|      sedan|       rwd|         front|    101.2|    176.8|    64.8|     54.3|      2395|       ohc|          four|       108|      mpfi|      3.5|   2.8|             8.8|       101|   5800|     23|        29|  16430.0|\n",
            "|    12|        0|            bmw 320i|     gas|       std|      four|      sedan|       rwd|         front|    101.2|    176.8|    64.8|     54.3|      2395|       ohc|          four|       108|      mpfi|      3.5|   2.8|             8.8|       101|   5800|     23|        29|  16925.0|\n",
            "|    13|        0|              bmw x1|     gas|       std|       two|      sedan|       rwd|         front|    101.2|    176.8|    64.8|     54.3|      2710|       ohc|           six|       164|      mpfi|     3.31|  3.19|             9.0|       121|   4250|     21|        28|  20970.0|\n",
            "|    14|        0|              bmw x3|     gas|       std|      four|      sedan|       rwd|         front|    101.2|    176.8|    64.8|     54.3|      2765|       ohc|           six|       164|      mpfi|     3.31|  3.19|             9.0|       121|   4250|     21|        28|  21105.0|\n",
            "|    15|        1|              bmw z4|     gas|       std|      four|      sedan|       rwd|         front|    103.5|    189.0|    66.9|     55.7|      3055|       ohc|           six|       164|      mpfi|     3.31|  3.19|             9.0|       121|   4250|     20|        25|  24565.0|\n",
            "|    16|        0|              bmw x4|     gas|       std|      four|      sedan|       rwd|         front|    103.5|    189.0|    66.9|     55.7|      3230|       ohc|           six|       209|      mpfi|     3.62|  3.39|             8.0|       182|   5400|     16|        22|  30760.0|\n",
            "|    17|        0|              bmw x5|     gas|       std|       two|      sedan|       rwd|         front|    103.5|    193.8|    67.9|     53.7|      3380|       ohc|           six|       209|      mpfi|     3.62|  3.39|             8.0|       182|   5400|     16|        22|  41315.0|\n",
            "|    18|        0|              bmw x3|     gas|       std|      four|      sedan|       rwd|         front|    110.0|    197.0|    70.9|     56.3|      3505|       ohc|           six|       209|      mpfi|     3.62|  3.39|             8.0|       182|   5400|     15|        20|  36880.0|\n",
            "|    19|        2|    chevrolet impala|     gas|       std|       two|  hatchback|       fwd|         front|     88.4|    141.1|    60.3|     53.2|      1488|         l|         three|        61|      2bbl|     2.91|  3.03|             9.5|        48|   5100|     47|        53|   5151.0|\n",
            "|    20|        1|chevrolet monte c...|     gas|       std|       two|  hatchback|       fwd|         front|     94.5|    155.9|    63.6|     52.0|      1874|       ohc|          four|        90|      2bbl|     3.03|  3.11|             9.6|        70|   5400|     38|        43|   6295.0|\n",
            "+------+---------+--------------------+--------+----------+----------+-----------+----------+--------------+---------+---------+--------+---------+----------+----------+--------------+----------+----------+---------+------+----------------+----------+-------+-------+----------+---------+\n",
            "only showing top 20 rows\n",
            "\n"
          ]
        }
      ],
      "source": [
        "df=spark.read.csv('/content/drive/MyDrive/pyspark/CarPrice_Geely.csv',header=True,inferSchema=True)\n",
        "df.show()"
      ]
    },
    {
      "cell_type": "code",
      "execution_count": 6,
      "metadata": {
        "colab": {
          "base_uri": "https://localhost:8080/"
        },
        "id": "qlRY07L41150",
        "outputId": "fbbad35c-672f-47b9-ff5d-c27f5ed48c2a"
      },
      "outputs": [
        {
          "name": "stdout",
          "output_type": "stream",
          "text": [
            "root\n",
            " |-- car_ID: integer (nullable = true)\n",
            " |-- symboling: integer (nullable = true)\n",
            " |-- CarName: string (nullable = true)\n",
            " |-- fueltype: string (nullable = true)\n",
            " |-- aspiration: string (nullable = true)\n",
            " |-- doornumber: string (nullable = true)\n",
            " |-- carbody: string (nullable = true)\n",
            " |-- drivewheel: string (nullable = true)\n",
            " |-- enginelocation: string (nullable = true)\n",
            " |-- wheelbase: double (nullable = true)\n",
            " |-- carlength: double (nullable = true)\n",
            " |-- carwidth: double (nullable = true)\n",
            " |-- carheight: double (nullable = true)\n",
            " |-- curbweight: integer (nullable = true)\n",
            " |-- enginetype: string (nullable = true)\n",
            " |-- cylindernumber: string (nullable = true)\n",
            " |-- enginesize: integer (nullable = true)\n",
            " |-- fuelsystem: string (nullable = true)\n",
            " |-- boreratio: double (nullable = true)\n",
            " |-- stroke: double (nullable = true)\n",
            " |-- compressionratio: double (nullable = true)\n",
            " |-- horsepower: integer (nullable = true)\n",
            " |-- peakrpm: integer (nullable = true)\n",
            " |-- citympg: integer (nullable = true)\n",
            " |-- highwaympg: integer (nullable = true)\n",
            " |-- price: double (nullable = true)\n",
            "\n"
          ]
        }
      ],
      "source": [
        "df.printSchema()"
      ]
    },
    {
      "cell_type": "code",
      "execution_count": 7,
      "metadata": {
        "colab": {
          "base_uri": "https://localhost:8080/"
        },
        "id": "v0p30ZFo2kgH",
        "outputId": "4f97ddf9-fb03-4e70-8a37-6bbdc1191026"
      },
      "outputs": [
        {
          "data": {
            "text/plain": [
              "['car_ID',\n",
              " 'symboling',\n",
              " 'CarName',\n",
              " 'fueltype',\n",
              " 'aspiration',\n",
              " 'doornumber',\n",
              " 'carbody',\n",
              " 'drivewheel',\n",
              " 'enginelocation',\n",
              " 'wheelbase',\n",
              " 'carlength',\n",
              " 'carwidth',\n",
              " 'carheight',\n",
              " 'curbweight',\n",
              " 'enginetype',\n",
              " 'cylindernumber',\n",
              " 'enginesize',\n",
              " 'fuelsystem',\n",
              " 'boreratio',\n",
              " 'stroke',\n",
              " 'compressionratio',\n",
              " 'horsepower',\n",
              " 'peakrpm',\n",
              " 'citympg',\n",
              " 'highwaympg',\n",
              " 'price']"
            ]
          },
          "execution_count": 7,
          "metadata": {},
          "output_type": "execute_result"
        }
      ],
      "source": [
        "df.columns"
      ]
    },
    {
      "cell_type": "markdown",
      "metadata": {
        "id": "XlBVN5cI2s0z"
      },
      "source": [
        "The car ID is simpy for indexing, so we wont consider it.\n",
        "The Car Names maybe useful, but for now we wont consider it.\n",
        "\n",
        "All the columns with categorical values will be converted into numerical values."
      ]
    },
    {
      "cell_type": "code",
      "execution_count": 9,
      "metadata": {
        "colab": {
          "base_uri": "https://localhost:8080/"
        },
        "id": "6-zoCGRq2lyy",
        "outputId": "f2f1ec91-e0cc-47c9-c3c0-e97153ef32f0"
      },
      "outputs": [
        {
          "name": "stdout",
          "output_type": "stream",
          "text": [
            "+------+---------+--------------------+--------+----------+----------+-----------+----------+--------------+---------+---------+--------+---------+----------+----------+--------------+----------+----------+---------+------+----------------+----------+-------+-------+----------+---------+----------------+------------------+------------------+---------------+------------------+----------------------+------------------+----------------------+------------------+\n",
            "|car_ID|symboling|             CarName|fueltype|aspiration|doornumber|    carbody|drivewheel|enginelocation|wheelbase|carlength|carwidth|carheight|curbweight|enginetype|cylindernumber|enginesize|fuelsystem|boreratio|stroke|compressionratio|horsepower|peakrpm|citympg|highwaympg|    price|fueltype_indexed|aspiration_indexed|doornumber_indexed|carbody_indexed|drivewheel_indexed|enginelocation_indexed|enginetype_indexed|cylindernumber_indexed|fuelsystem_indexed|\n",
            "+------+---------+--------------------+--------+----------+----------+-----------+----------+--------------+---------+---------+--------+---------+----------+----------+--------------+----------+----------+---------+------+----------------+----------+-------+-------+----------+---------+----------------+------------------+------------------+---------------+------------------+----------------------+------------------+----------------------+------------------+\n",
            "|     1|        3|  alfa-romero giulia|     gas|       std|       two|convertible|       rwd|         front|     88.6|    168.8|    64.1|     48.8|      2548|      dohc|          four|       130|      mpfi|     3.47|  2.68|             9.0|       111|   5000|     21|        27|  13495.0|             0.0|               0.0|               1.0|            4.0|               1.0|                   0.0|               3.0|                   0.0|               0.0|\n",
            "|     2|        3| alfa-romero stelvio|     gas|       std|       two|convertible|       rwd|         front|     88.6|    168.8|    64.1|     48.8|      2548|      dohc|          four|       130|      mpfi|     3.47|  2.68|             9.0|       111|   5000|     21|        27|  16500.0|             0.0|               0.0|               1.0|            4.0|               1.0|                   0.0|               3.0|                   0.0|               0.0|\n",
            "|     3|        1|alfa-romero Quadr...|     gas|       std|       two|  hatchback|       rwd|         front|     94.5|    171.2|    65.5|     52.4|      2823|      ohcv|           six|       152|      mpfi|     2.68|  3.47|             9.0|       154|   5000|     19|        26|  16500.0|             0.0|               0.0|               1.0|            1.0|               1.0|                   0.0|               2.0|                   1.0|               0.0|\n",
            "|     4|        2|         audi 100 ls|     gas|       std|      four|      sedan|       fwd|         front|     99.8|    176.6|    66.2|     54.3|      2337|       ohc|          four|       109|      mpfi|     3.19|   3.4|            10.0|       102|   5500|     24|        30|  13950.0|             0.0|               0.0|               0.0|            0.0|               0.0|                   0.0|               0.0|                   0.0|               0.0|\n",
            "|     5|        2|          audi 100ls|     gas|       std|      four|      sedan|       4wd|         front|     99.4|    176.6|    66.4|     54.3|      2824|       ohc|          five|       136|      mpfi|     3.19|   3.4|             8.0|       115|   5500|     18|        22|  17450.0|             0.0|               0.0|               0.0|            0.0|               2.0|                   0.0|               0.0|                   2.0|               0.0|\n",
            "|     6|        2|            audi fox|     gas|       std|       two|      sedan|       fwd|         front|     99.8|    177.3|    66.3|     53.1|      2507|       ohc|          five|       136|      mpfi|     3.19|   3.4|             8.5|       110|   5500|     19|        25|  15250.0|             0.0|               0.0|               1.0|            0.0|               0.0|                   0.0|               0.0|                   2.0|               0.0|\n",
            "|     7|        1|          audi 100ls|     gas|       std|      four|      sedan|       fwd|         front|    105.8|    192.7|    71.4|     55.7|      2844|       ohc|          five|       136|      mpfi|     3.19|   3.4|             8.5|       110|   5500|     19|        25|  17710.0|             0.0|               0.0|               0.0|            0.0|               0.0|                   0.0|               0.0|                   2.0|               0.0|\n",
            "|     8|        1|           audi 5000|     gas|       std|      four|      wagon|       fwd|         front|    105.8|    192.7|    71.4|     55.7|      2954|       ohc|          five|       136|      mpfi|     3.19|   3.4|             8.5|       110|   5500|     19|        25|  18920.0|             0.0|               0.0|               0.0|            2.0|               0.0|                   0.0|               0.0|                   2.0|               0.0|\n",
            "|     9|        1|           audi 4000|     gas|     turbo|      four|      sedan|       fwd|         front|    105.8|    192.7|    71.4|     55.9|      3086|       ohc|          five|       131|      mpfi|     3.13|   3.4|             8.3|       140|   5500|     17|        20|  23875.0|             0.0|               1.0|               0.0|            0.0|               0.0|                   0.0|               0.0|                   2.0|               0.0|\n",
            "|    10|        0| audi 5000s (diesel)|     gas|     turbo|       two|  hatchback|       4wd|         front|     99.5|    178.2|    67.9|     52.0|      3053|       ohc|          five|       131|      mpfi|     3.13|   3.4|             7.0|       160|   5500|     16|        22|17859.167|             0.0|               1.0|               1.0|            1.0|               2.0|                   0.0|               0.0|                   2.0|               0.0|\n",
            "|    11|        2|            bmw 320i|     gas|       std|       two|      sedan|       rwd|         front|    101.2|    176.8|    64.8|     54.3|      2395|       ohc|          four|       108|      mpfi|      3.5|   2.8|             8.8|       101|   5800|     23|        29|  16430.0|             0.0|               0.0|               1.0|            0.0|               1.0|                   0.0|               0.0|                   0.0|               0.0|\n",
            "|    12|        0|            bmw 320i|     gas|       std|      four|      sedan|       rwd|         front|    101.2|    176.8|    64.8|     54.3|      2395|       ohc|          four|       108|      mpfi|      3.5|   2.8|             8.8|       101|   5800|     23|        29|  16925.0|             0.0|               0.0|               0.0|            0.0|               1.0|                   0.0|               0.0|                   0.0|               0.0|\n",
            "|    13|        0|              bmw x1|     gas|       std|       two|      sedan|       rwd|         front|    101.2|    176.8|    64.8|     54.3|      2710|       ohc|           six|       164|      mpfi|     3.31|  3.19|             9.0|       121|   4250|     21|        28|  20970.0|             0.0|               0.0|               1.0|            0.0|               1.0|                   0.0|               0.0|                   1.0|               0.0|\n",
            "|    14|        0|              bmw x3|     gas|       std|      four|      sedan|       rwd|         front|    101.2|    176.8|    64.8|     54.3|      2765|       ohc|           six|       164|      mpfi|     3.31|  3.19|             9.0|       121|   4250|     21|        28|  21105.0|             0.0|               0.0|               0.0|            0.0|               1.0|                   0.0|               0.0|                   1.0|               0.0|\n",
            "|    15|        1|              bmw z4|     gas|       std|      four|      sedan|       rwd|         front|    103.5|    189.0|    66.9|     55.7|      3055|       ohc|           six|       164|      mpfi|     3.31|  3.19|             9.0|       121|   4250|     20|        25|  24565.0|             0.0|               0.0|               0.0|            0.0|               1.0|                   0.0|               0.0|                   1.0|               0.0|\n",
            "|    16|        0|              bmw x4|     gas|       std|      four|      sedan|       rwd|         front|    103.5|    189.0|    66.9|     55.7|      3230|       ohc|           six|       209|      mpfi|     3.62|  3.39|             8.0|       182|   5400|     16|        22|  30760.0|             0.0|               0.0|               0.0|            0.0|               1.0|                   0.0|               0.0|                   1.0|               0.0|\n",
            "|    17|        0|              bmw x5|     gas|       std|       two|      sedan|       rwd|         front|    103.5|    193.8|    67.9|     53.7|      3380|       ohc|           six|       209|      mpfi|     3.62|  3.39|             8.0|       182|   5400|     16|        22|  41315.0|             0.0|               0.0|               1.0|            0.0|               1.0|                   0.0|               0.0|                   1.0|               0.0|\n",
            "|    18|        0|              bmw x3|     gas|       std|      four|      sedan|       rwd|         front|    110.0|    197.0|    70.9|     56.3|      3505|       ohc|           six|       209|      mpfi|     3.62|  3.39|             8.0|       182|   5400|     15|        20|  36880.0|             0.0|               0.0|               0.0|            0.0|               1.0|                   0.0|               0.0|                   1.0|               0.0|\n",
            "|    19|        2|    chevrolet impala|     gas|       std|       two|  hatchback|       fwd|         front|     88.4|    141.1|    60.3|     53.2|      1488|         l|         three|        61|      2bbl|     2.91|  3.03|             9.5|        48|   5100|     47|        53|   5151.0|             0.0|               0.0|               1.0|            1.0|               0.0|                   0.0|               4.0|                   5.0|               1.0|\n",
            "|    20|        1|chevrolet monte c...|     gas|       std|       two|  hatchback|       fwd|         front|     94.5|    155.9|    63.6|     52.0|      1874|       ohc|          four|        90|      2bbl|     3.03|  3.11|             9.6|        70|   5400|     38|        43|   6295.0|             0.0|               0.0|               1.0|            1.0|               0.0|                   0.0|               0.0|                   0.0|               1.0|\n",
            "+------+---------+--------------------+--------+----------+----------+-----------+----------+--------------+---------+---------+--------+---------+----------+----------+--------------+----------+----------+---------+------+----------------+----------+-------+-------+----------+---------+----------------+------------------+------------------+---------------+------------------+----------------------+------------------+----------------------+------------------+\n",
            "only showing top 20 rows\n",
            "\n"
          ]
        }
      ],
      "source": [
        "from pyspark.ml.feature import StringIndexer\n",
        "\n",
        "inp_cols = [\"fueltype\", \"aspiration\", \"doornumber\", \"carbody\", \"drivewheel\", \"enginelocation\", \"enginetype\", \"cylindernumber\", \"fuelsystem\"]\n",
        "op_cols = [\"fueltype_indexed\", \"aspiration_indexed\", \"doornumber_indexed\", \"carbody_indexed\", \"drivewheel_indexed\", \"enginelocation_indexed\", \"enginetype_indexed\", \"cylindernumber_indexed\", \"fuelsystem_indexed\"]\n",
        "\n",
        "\n",
        "indexer = StringIndexer(inputCols=inp_cols,outputCols=op_cols)\n",
        "df_indexed = indexer.fit(df).transform(df)\n",
        "df_indexed.show()"
      ]
    },
    {
      "cell_type": "code",
      "execution_count": 10,
      "metadata": {
        "colab": {
          "base_uri": "https://localhost:8080/"
        },
        "id": "jQb-nJJZ5RYi",
        "outputId": "5daf9588-51cb-449f-9454-e7c65659bb56"
      },
      "outputs": [
        {
          "data": {
            "text/plain": [
              "['car_ID',\n",
              " 'symboling',\n",
              " 'CarName',\n",
              " 'fueltype',\n",
              " 'aspiration',\n",
              " 'doornumber',\n",
              " 'carbody',\n",
              " 'drivewheel',\n",
              " 'enginelocation',\n",
              " 'wheelbase',\n",
              " 'carlength',\n",
              " 'carwidth',\n",
              " 'carheight',\n",
              " 'curbweight',\n",
              " 'enginetype',\n",
              " 'cylindernumber',\n",
              " 'enginesize',\n",
              " 'fuelsystem',\n",
              " 'boreratio',\n",
              " 'stroke',\n",
              " 'compressionratio',\n",
              " 'horsepower',\n",
              " 'peakrpm',\n",
              " 'citympg',\n",
              " 'highwaympg',\n",
              " 'price',\n",
              " 'fueltype_indexed',\n",
              " 'aspiration_indexed',\n",
              " 'doornumber_indexed',\n",
              " 'carbody_indexed',\n",
              " 'drivewheel_indexed',\n",
              " 'enginelocation_indexed',\n",
              " 'enginetype_indexed',\n",
              " 'cylindernumber_indexed',\n",
              " 'fuelsystem_indexed']"
            ]
          },
          "execution_count": 10,
          "metadata": {},
          "output_type": "execute_result"
        }
      ],
      "source": [
        "df_indexed.columns"
      ]
    },
    {
      "cell_type": "code",
      "execution_count": 11,
      "metadata": {
        "id": "SX2dXpnE5Uof"
      },
      "outputs": [],
      "source": [
        "from pyspark.ml.feature import VectorAssembler\n",
        "\n",
        "inp_features = [\"fueltype_indexed\", \"aspiration_indexed\", \"doornumber_indexed\", \"carbody_indexed\", \"drivewheel_indexed\", \"enginelocation_indexed\", \"enginetype_indexed\", \"cylindernumber_indexed\", \"fuelsystem_indexed\"]\n",
        "\n",
        "# using all the generated numeric features\n",
        "featureassembler=VectorAssembler(inputCols=inp_features,outputCol=\"Independent Features\")\n",
        "output=featureassembler.transform(df_indexed)"
      ]
    },
    {
      "cell_type": "code",
      "execution_count": 12,
      "metadata": {
        "colab": {
          "base_uri": "https://localhost:8080/"
        },
        "id": "QtWat9Uz5kHk",
        "outputId": "6dd6a194-6517-4877-c45e-a6963ea114bd"
      },
      "outputs": [
        {
          "name": "stdout",
          "output_type": "stream",
          "text": [
            "+--------------------+\n",
            "|Independent Features|\n",
            "+--------------------+\n",
            "|(9,[2,3,4,6],[1.0...|\n",
            "|(9,[2,3,4,6],[1.0...|\n",
            "|[0.0,0.0,1.0,1.0,...|\n",
            "|           (9,[],[])|\n",
            "| (9,[4,7],[2.0,2.0])|\n",
            "| (9,[2,7],[1.0,2.0])|\n",
            "|       (9,[7],[2.0])|\n",
            "| (9,[3,7],[2.0,2.0])|\n",
            "| (9,[1,7],[1.0,2.0])|\n",
            "|[0.0,1.0,1.0,1.0,...|\n",
            "| (9,[2,4],[1.0,1.0])|\n",
            "|       (9,[4],[1.0])|\n",
            "|(9,[2,4,7],[1.0,1...|\n",
            "| (9,[4,7],[1.0,1.0])|\n",
            "| (9,[4,7],[1.0,1.0])|\n",
            "| (9,[4,7],[1.0,1.0])|\n",
            "|(9,[2,4,7],[1.0,1...|\n",
            "| (9,[4,7],[1.0,1.0])|\n",
            "|[0.0,0.0,1.0,1.0,...|\n",
            "|(9,[2,3,8],[1.0,1...|\n",
            "+--------------------+\n",
            "only showing top 20 rows\n",
            "\n"
          ]
        }
      ],
      "source": [
        "output.select('Independent Features').show()"
      ]
    },
    {
      "cell_type": "code",
      "execution_count": 15,
      "metadata": {
        "colab": {
          "base_uri": "https://localhost:8080/"
        },
        "id": "5DAYEdVf5onY",
        "outputId": "d62c6783-b9b1-452e-e339-de6bab3f3720"
      },
      "outputs": [
        {
          "name": "stdout",
          "output_type": "stream",
          "text": [
            "+--------------------+---------+\n",
            "|Independent Features|    price|\n",
            "+--------------------+---------+\n",
            "|(9,[2,3,4,6],[1.0...|  13495.0|\n",
            "|(9,[2,3,4,6],[1.0...|  16500.0|\n",
            "|[0.0,0.0,1.0,1.0,...|  16500.0|\n",
            "|           (9,[],[])|  13950.0|\n",
            "| (9,[4,7],[2.0,2.0])|  17450.0|\n",
            "| (9,[2,7],[1.0,2.0])|  15250.0|\n",
            "|       (9,[7],[2.0])|  17710.0|\n",
            "| (9,[3,7],[2.0,2.0])|  18920.0|\n",
            "| (9,[1,7],[1.0,2.0])|  23875.0|\n",
            "|[0.0,1.0,1.0,1.0,...|17859.167|\n",
            "| (9,[2,4],[1.0,1.0])|  16430.0|\n",
            "|       (9,[4],[1.0])|  16925.0|\n",
            "|(9,[2,4,7],[1.0,1...|  20970.0|\n",
            "| (9,[4,7],[1.0,1.0])|  21105.0|\n",
            "| (9,[4,7],[1.0,1.0])|  24565.0|\n",
            "| (9,[4,7],[1.0,1.0])|  30760.0|\n",
            "|(9,[2,4,7],[1.0,1...|  41315.0|\n",
            "| (9,[4,7],[1.0,1.0])|  36880.0|\n",
            "|[0.0,0.0,1.0,1.0,...|   5151.0|\n",
            "|(9,[2,3,8],[1.0,1...|   6295.0|\n",
            "+--------------------+---------+\n",
            "only showing top 20 rows\n",
            "\n"
          ]
        }
      ],
      "source": [
        "dataset = output.select(\"Independent Features\",\"price\")\n",
        "dataset.show()"
      ]
    },
    {
      "cell_type": "code",
      "execution_count": 16,
      "metadata": {
        "id": "DRWrtpTd5zvS"
      },
      "outputs": [],
      "source": [
        "from pyspark.ml.regression import LinearRegression\n",
        "\n",
        "# train test split in 80-20\n",
        "train_data,test_data = dataset.randomSplit([0.80,0.20]\n",
        "                                                )\n",
        "lin_reg=LinearRegression(featuresCol='Independent Features', labelCol='price')\n",
        "lin_reg=lin_reg.fit(train_data)"
      ]
    },
    {
      "cell_type": "code",
      "execution_count": 18,
      "metadata": {
        "colab": {
          "base_uri": "https://localhost:8080/"
        },
        "id": "nvom2WBX6EHY",
        "outputId": "5a88deda-15f2-4fda-f4a4-27135b902db0"
      },
      "outputs": [
        {
          "name": "stdout",
          "output_type": "stream",
          "text": [
            "[2191.277650748367,4294.730185935873,-1310.6583685301268,34.22110374447005,3437.212005294794,18751.716572220543,-380.8578132636653,3951.607326597133,-1387.5514924267177]\n",
            "10959.206414575678\n"
          ]
        }
      ],
      "source": [
        "print(lin_reg.coefficients)\n",
        "print(lin_reg.intercept)"
      ]
    },
    {
      "cell_type": "code",
      "execution_count": 19,
      "metadata": {
        "colab": {
          "base_uri": "https://localhost:8080/"
        },
        "id": "H3sCpYQu6JC8",
        "outputId": "d5b9f855-8b8b-43c9-b66a-428f5621f010"
      },
      "outputs": [
        {
          "name": "stdout",
          "output_type": "stream",
          "text": [
            "+--------------------+-------+------------------+\n",
            "|Independent Features|  price|        prediction|\n",
            "+--------------------+-------+------------------+\n",
            "|           (9,[],[])| 8195.0|10959.206414575678|\n",
            "|           (9,[],[])| 8948.0|10959.206414575678|\n",
            "|(9,[0,1,8],[1.0,1...|13845.0|14670.111266406482|\n",
            "| (9,[0,8],[1.0,2.0])| 7898.0|10375.381080470608|\n",
            "| (9,[0,8],[1.0,2.0])|10795.0|10375.381080470608|\n",
            "|(9,[1,2,3],[1.0,1...| 7957.0|13977.499335725894|\n",
            "|(9,[1,2,3,6],[1.0...|18150.0|12834.925895934899|\n",
            "|(9,[1,2,3,8],[1.0...| 7957.0| 8427.293366019023|\n",
            "| (9,[1,7],[1.0,2.0])|23875.0|23157.151253705815|\n",
            "| (9,[2,3],[1.0,1.0])|11850.0| 9682.769149790021|\n",
            "| (9,[2,3],[1.0,4.0])|11595.0|  9785.43246102343|\n",
            "|(9,[2,3,4],[1.0,1...|22018.0|13119.981155084815|\n",
            "|(9,[2,3,8],[1.0,1...| 5572.0| 8295.217657363304|\n",
            "|(9,[2,3,8],[1.0,1...| 6189.0| 8295.217657363304|\n",
            "|(9,[2,3,8],[1.0,1...| 6529.0| 5520.114672509868|\n",
            "|(9,[2,3,8],[1.0,1...| 9095.0| 5520.114672509868|\n",
            "| (9,[2,4],[1.0,1.0])|16430.0|13085.760051340345|\n",
            "|(9,[2,4,6],[1.0,1...| 9298.0|11943.186611549349|\n",
            "|(9,[2,4,8],[1.0,1...| 8058.0|11698.208558913628|\n",
            "| (9,[2,8],[1.0,1.0])| 7299.0| 8260.996553618832|\n",
            "+--------------------+-------+------------------+\n",
            "only showing top 20 rows\n",
            "\n"
          ]
        }
      ],
      "source": [
        "pred_results=lin_reg.evaluate(test_data)\n",
        "pred_results.predictions.show()"
      ]
    },
    {
      "cell_type": "code",
      "execution_count": 20,
      "metadata": {
        "colab": {
          "base_uri": "https://localhost:8080/"
        },
        "id": "_a-CVigv6Z3G",
        "outputId": "e8942b7b-3900-4335-9d10-7703794700e3"
      },
      "outputs": [
        {
          "name": "stdout",
          "output_type": "stream",
          "text": [
            "0.6751524520284071\n",
            "3012.4215127284815\n",
            "16918943.737693876\n"
          ]
        }
      ],
      "source": [
        "# Performance Metrics\n",
        "\n",
        "print(pred_results.r2)\n",
        "print(pred_results.meanAbsoluteError)\n",
        "print(pred_results.meanSquaredError)"
      ]
    }
  ],
  "metadata": {
    "colab": {
      "provenance": []
    },
    "kernelspec": {
      "display_name": "Python 3",
      "name": "python3"
    },
    "language_info": {
      "name": "python"
    }
  },
  "nbformat": 4,
  "nbformat_minor": 0
}
