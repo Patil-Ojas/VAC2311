{
 "cells": [
  {
   "cell_type": "code",
   "execution_count": 1,
   "metadata": {
    "colab": {
     "base_uri": "https://localhost:8080/"
    },
    "id": "EyXZbQ4BXoA-",
    "outputId": "7b7c1ef0-7997-432d-80b1-5c4c60814d6b"
   },
   "outputs": [
    {
     "name": "stderr",
     "output_type": "stream",
     "text": [
      "C:\\Users\\princ\\anaconda3\\envs\\tf\\lib\\site-packages\\scipy\\__init__.py:146: UserWarning: A NumPy version >=1.16.5 and <1.23.0 is required for this version of SciPy (detected version 1.23.0\n",
      "  warnings.warn(f\"A NumPy version >={np_minversion} and <{np_maxversion}\"\n"
     ]
    }
   ],
   "source": [
    "\n",
    "import tensorflow as tf\n",
    "\n",
    "(x_train, y_train), (x_test, y_test) = tf.keras.datasets.cifar10.load_data()"
   ]
  },
  {
   "cell_type": "code",
   "execution_count": 2,
   "metadata": {
    "colab": {
     "base_uri": "https://localhost:8080/"
    },
    "id": "5K6JlsfeYwig",
    "outputId": "b46ed3a0-952c-46d3-cf0a-6932810deb3e"
   },
   "outputs": [
    {
     "name": "stdout",
     "output_type": "stream",
     "text": [
      "(50000, 32, 32, 3)\n",
      "(50000, 1)\n",
      "(10000, 32, 32, 3)\n",
      "(10000, 1)\n"
     ]
    }
   ],
   "source": [
    "print(x_train.shape)\n",
    "print(y_train.shape)\n",
    "print(x_test.shape)\n",
    "print(y_test.shape)"
   ]
  },
  {
   "cell_type": "code",
   "execution_count": 3,
   "metadata": {
    "colab": {
     "base_uri": "https://localhost:8080/"
    },
    "id": "QsZGoXH4Y_S_",
    "outputId": "6dbaec09-e674-4e3d-92b5-a0033687c794"
   },
   "outputs": [
    {
     "data": {
      "text/plain": [
       "array([0, 1, 2, 3, 4, 5, 6, 7, 8, 9], dtype=uint8)"
      ]
     },
     "execution_count": 3,
     "metadata": {},
     "output_type": "execute_result"
    }
   ],
   "source": [
    "import numpy as np\n",
    "np.unique(y_train)"
   ]
  },
  {
   "cell_type": "code",
   "execution_count": 4,
   "metadata": {
    "id": "CRw-nou4ZImE"
   },
   "outputs": [],
   "source": [
    "label = ['airplane','automobile','bird','cat','deer','dog','frog','horse','ship','truck']"
   ]
  },
  {
   "cell_type": "code",
   "execution_count": 5,
   "metadata": {
    "colab": {
     "base_uri": "https://localhost:8080/"
    },
    "id": "roA5KDKTZgGQ",
    "outputId": "718f7782-7098-4f5a-c818-7d9753fc3183"
   },
   "outputs": [
    {
     "data": {
      "text/plain": [
       "10"
      ]
     },
     "execution_count": 5,
     "metadata": {},
     "output_type": "execute_result"
    }
   ],
   "source": [
    "len(label)"
   ]
  },
  {
   "cell_type": "code",
   "execution_count": 6,
   "metadata": {
    "colab": {
     "base_uri": "https://localhost:8080/",
     "height": 281
    },
    "id": "-W8_8mYxZhoK",
    "outputId": "f554a2a3-8c29-4df3-8a51-050deb0ee736"
   },
   "outputs": [
    {
     "data": {
      "image/png": "[encoded data removed]",
      "text/plain": [
       "<Figure size 432x288 with 1 Axes>"
      ]
     },
     "metadata": {
      "needs_background": "light"
     },
     "output_type": "display_data"
    }
   ],
   "source": [
    "import matplotlib.pyplot as plt\n",
    "i = np.random.randint(1,50000)\n",
    "op = label[y_train[i][0]]\n",
    "plt.imshow(x_train[i])\n",
    "plt.title(f'Image is {op}')\n",
    "plt.show()"
   ]
  },
  {
   "cell_type": "code",
   "execution_count": 7,
   "metadata": {
    "id": "UEKrGJsAeE9v"
   },
   "outputs": [],
   "source": [
    "x_train =x_train/255\n",
    "x_test = x_test/255"
   ]
  },
  {
   "cell_type": "code",
   "execution_count": 8,
   "metadata": {
    "colab": {
     "base_uri": "https://localhost:8080/"
    },
    "id": "5rjr4tWoeaql",
    "outputId": "dbcee0dd-0d0a-4ecc-e370-0a5317a0c097"
   },
   "outputs": [
    {
     "data": {
      "text/plain": [
       "3072"
      ]
     },
     "execution_count": 8,
     "metadata": {},
     "output_type": "execute_result"
    }
   ],
   "source": [
    "32*32*3"
   ]
  },
  {
   "cell_type": "code",
   "execution_count": 9,
   "metadata": {
    "id": "GLMnk5rtZz7A"
   },
   "outputs": [],
   "source": [
    "\n",
    "# Build a ANN model\n",
    "\n",
    "ann = tf.keras.Sequential()\n",
    "ann.add(tf.keras.layers.Flatten(input_shape=(32,32,3)))\n",
    "ann.add(tf.keras.layers.Dense(2048,activation='relu'))\n",
    "ann.add(tf.keras.layers.Dense(1024,activation='relu'))\n",
    "ann.add(tf.keras.layers.Dense(10,activation='softmax'))"
   ]
  },
  {
   "cell_type": "code",
   "execution_count": 10,
   "metadata": {
    "colab": {
     "base_uri": "https://localhost:8080/"
    },
    "id": "U6m0ZZa5ewdM",
    "outputId": "3d32ffa9-7a9b-4aea-f3df-f3d27cf23a9f"
   },
   "outputs": [
    {
     "name": "stdout",
     "output_type": "stream",
     "text": [
      "Model: \"sequential\"\n",
      "_________________________________________________________________\n",
      " Layer (type)                Output Shape              Param #   \n",
      "=================================================================\n",
      " flatten (Flatten)           (None, 3072)              0         \n",
      "                                                                 \n",
      " dense (Dense)               (None, 2048)              6293504   \n",
      "                                                                 \n",
      " dense_1 (Dense)             (None, 1024)              2098176   \n",
      "                                                                 \n",
      " dense_2 (Dense)             (None, 10)                10250     \n",
      "                                                                 \n",
      "=================================================================\n",
      "Total params: 8,401,930\n",
      "Trainable params: 8,401,930\n",
      "Non-trainable params: 0\n",
      "_________________________________________________________________\n"
     ]
    }
   ],
   "source": [
    "ann.summary()"
   ]
  },
  {
   "cell_type": "code",
   "execution_count": 11,
   "metadata": {
    "id": "ZQ39IGGSeyHA"
   },
   "outputs": [],
   "source": [
    "ann.compile(optimizer='adam',loss=tf.keras.losses.SparseCategoricalCrossentropy(),metrics=['accuracy'])"
   ]
  },
  {
   "cell_type": "code",
   "execution_count": 12,
   "metadata": {
    "colab": {
     "base_uri": "https://localhost:8080/"
    },
    "id": "XGo5z5crfEP1",
    "outputId": "39876db2-00f4-443e-ae4e-5d7ffe64c3c2"
   },
   "outputs": [
    {
     "name": "stdout",
     "output_type": "stream",
     "text": [
      "Epoch 1/10\n",
      "1563/1563 [==============================] - 79s 50ms/step - loss: 1.8777 - accuracy: 0.3257 - val_loss: 1.6920 - val_accuracy: 0.3877\n",
      "Epoch 2/10\n",
      "1563/1563 [==============================] - 78s 50ms/step - loss: 1.6647 - accuracy: 0.4043 - val_loss: 1.6201 - val_accuracy: 0.4243\n",
      "Epoch 3/10\n",
      "1563/1563 [==============================] - 79s 51ms/step - loss: 1.5816 - accuracy: 0.4326 - val_loss: 1.5676 - val_accuracy: 0.4367\n",
      "Epoch 4/10\n",
      "1563/1563 [==============================] - 78s 50ms/step - loss: 1.5307 - accuracy: 0.4519 - val_loss: 1.6192 - val_accuracy: 0.4324\n",
      "Epoch 5/10\n",
      "1563/1563 [==============================] - 79s 50ms/step - loss: 1.4925 - accuracy: 0.4650 - val_loss: 1.5452 - val_accuracy: 0.4469\n",
      "Epoch 6/10\n",
      "1563/1563 [==============================] - 79s 51ms/step - loss: 1.4628 - accuracy: 0.4778 - val_loss: 1.5392 - val_accuracy: 0.4507\n",
      "Epoch 7/10\n",
      "1563/1563 [==============================] - 109s 69ms/step - loss: 1.4419 - accuracy: 0.4829 - val_loss: 1.5206 - val_accuracy: 0.4592\n",
      "Epoch 8/10\n",
      "1563/1563 [==============================] - 73s 47ms/step - loss: 1.4128 - accuracy: 0.4951 - val_loss: 1.4784 - val_accuracy: 0.4734\n",
      "Epoch 9/10\n",
      "1563/1563 [==============================] - 76s 48ms/step - loss: 1.3917 - accuracy: 0.5013 - val_loss: 1.4891 - val_accuracy: 0.4709\n",
      "Epoch 10/10\n",
      "1563/1563 [==============================] - 76s 49ms/step - loss: 1.3734 - accuracy: 0.5100 - val_loss: 1.4705 - val_accuracy: 0.4784\n"
     ]
    },
    {
     "data": {
      "text/plain": [
       "<keras.callbacks.History at 0x2a4322633a0>"
      ]
     },
     "execution_count": 12,
     "metadata": {},
     "output_type": "execute_result"
    }
   ],
   "source": [
    "ann.fit(x_train,y_train,epochs=10,validation_data=(x_test,y_test))"
   ]
  },
  {
   "cell_type": "code",
   "execution_count": 13,
   "metadata": {},
   "outputs": [
    {
     "name": "stdout",
     "output_type": "stream",
     "text": [
      "ann_exe_time 874.8115274906158\n"
     ]
    }
   ],
   "source": [
    "t1=time.time()-t0\n",
    "print(\"ann_exe_time\", t1)"
   ]
  },
  {
   "cell_type": "code",
   "execution_count": null,
   "metadata": {
    "id": "KdQCvosafWIq"
   },
   "outputs": [],
   "source": [
    "# Building a CNN model"
   ]
  },
  {
   "cell_type": "code",
   "execution_count": 14,
   "metadata": {
    "id": "UEE3F98ig5Cy"
   },
   "outputs": [],
   "source": [
    "cnn1 = tf.keras.Sequential()\n",
    "cnn1.add(tf.keras.layers.Conv2D(32,kernel_size=(3,3),activation='relu',input_shape=(32,32,3)))\n",
    "cnn1.add(tf.keras.layers.MaxPooling2D())\n",
    "cnn1.add(tf.keras.layers.Conv2D(64,kernel_size=(3,3),activation='relu'))\n",
    "cnn1.add(tf.keras.layers.MaxPooling2D())\n",
    "cnn1.add(tf.keras.layers.Conv2D(32,kernel_size=(3,3),activation='relu'))\n",
    "cnn1.add(tf.keras.layers.Flatten())\n",
    "cnn1.add(tf.keras.layers.Dense(64,activation='relu'))\n",
    "cnn1.add(tf.keras.layers.Dense(10,activation='softmax'))"
   ]
  },
  {
   "cell_type": "code",
   "execution_count": null,
   "metadata": {
    "colab": {
     "base_uri": "https://localhost:8080/"
    },
    "id": "h6U2KvQ0iW8A",
    "outputId": "b8157246-19f2-4092-9bce-c946114ad537"
   },
   "outputs": [
    {
     "name": "stdout",
     "output_type": "stream",
     "text": [
      "Model: \"sequential_1\"\n",
      "_________________________________________________________________\n",
      " Layer (type)                Output Shape              Param #   \n",
      "=================================================================\n",
      " conv2d (Conv2D)             (None, 30, 30, 32)        896       \n",
      "                                                                 \n",
      " max_pooling2d (MaxPooling2D  (None, 15, 15, 32)       0         \n",
      " )                                                               \n",
      "                                                                 \n",
      " conv2d_1 (Conv2D)           (None, 13, 13, 64)        18496     \n",
      "                                                                 \n",
      " max_pooling2d_1 (MaxPooling  (None, 6, 6, 64)         0         \n",
      " 2D)                                                             \n",
      "                                                                 \n",
      " conv2d_2 (Conv2D)           (None, 4, 4, 32)          18464     \n",
      "                                                                 \n",
      " flatten_1 (Flatten)         (None, 512)               0         \n",
      "                                                                 \n",
      " dense_3 (Dense)             (None, 64)                32832     \n",
      "                                                                 \n",
      " dense_4 (Dense)             (None, 10)                650       \n",
      "                                                                 \n",
      "=================================================================\n",
      "Total params: 71,338\n",
      "Trainable params: 71,338\n",
      "Non-trainable params: 0\n",
      "_________________________________________________________________\n"
     ]
    }
   ],
   "source": [
    "cnn1.summary()"
   ]
  },
  {
   "cell_type": "code",
   "execution_count": null,
   "metadata": {
    "id": "pwbTueI6iZQf"
   },
   "outputs": [],
   "source": []
  },
  {
   "cell_type": "code",
   "execution_count": 15,
   "metadata": {
    "id": "YHGcidmZiwuQ"
   },
   "outputs": [],
   "source": [
    "cnn1.compile(optimizer='adam',loss=tf.keras.losses.SparseCategoricalCrossentropy(),metrics=['accuracy'])"
   ]
  },
  {
   "cell_type": "code",
   "execution_count": 16,
   "metadata": {
    "colab": {
     "base_uri": "https://localhost:8080/"
    },
    "id": "4SrOw3Q3iwuY",
    "outputId": "66d4e5b2-a8e9-49c0-88f2-6b220798a951"
   },
   "outputs": [
    {
     "name": "stdout",
     "output_type": "stream",
     "text": [
      "Epoch 1/10\n",
      "1563/1563 [==============================] - 55s 34ms/step - loss: 1.5893 - accuracy: 0.4173 - val_loss: 1.3110 - val_accuracy: 0.5245\n",
      "Epoch 2/10\n",
      "1563/1563 [==============================] - 53s 34ms/step - loss: 1.2626 - accuracy: 0.5479 - val_loss: 1.1665 - val_accuracy: 0.5853\n",
      "Epoch 3/10\n",
      "1563/1563 [==============================] - 54s 34ms/step - loss: 1.1242 - accuracy: 0.6000 - val_loss: 1.0927 - val_accuracy: 0.6037\n",
      "Epoch 4/10\n",
      "1563/1563 [==============================] - 48s 30ms/step - loss: 1.0312 - accuracy: 0.6350 - val_loss: 1.1418 - val_accuracy: 0.5842\n",
      "Epoch 5/10\n",
      "1563/1563 [==============================] - 22s 14ms/step - loss: 0.9719 - accuracy: 0.6578 - val_loss: 0.9605 - val_accuracy: 0.6616\n",
      "Epoch 6/10\n",
      "1563/1563 [==============================] - 29s 19ms/step - loss: 0.9201 - accuracy: 0.6757 - val_loss: 0.9728 - val_accuracy: 0.6606\n",
      "Epoch 7/10\n",
      "1563/1563 [==============================] - 27s 17ms/step - loss: 0.8756 - accuracy: 0.6910 - val_loss: 0.9614 - val_accuracy: 0.6640\n",
      "Epoch 8/10\n",
      "1563/1563 [==============================] - 24s 16ms/step - loss: 0.8383 - accuracy: 0.7041 - val_loss: 0.9345 - val_accuracy: 0.6740\n",
      "Epoch 9/10\n",
      "1563/1563 [==============================] - 24s 15ms/step - loss: 0.8061 - accuracy: 0.7167 - val_loss: 0.8983 - val_accuracy: 0.6891\n",
      "Epoch 10/10\n",
      "1563/1563 [==============================] - 24s 15ms/step - loss: 0.7754 - accuracy: 0.7249 - val_loss: 1.0075 - val_accuracy: 0.6526\n"
     ]
    },
    {
     "data": {
      "text/plain": [
       "<keras.callbacks.History at 0x17b51cd0700>"
      ]
     },
     "execution_count": 16,
     "metadata": {},
     "output_type": "execute_result"
    }
   ],
   "source": [
    "cnn1.fit(x_train,y_train,epochs=10,validation_data=(x_test,y_test))"
   ]
  },
  {
   "cell_type": "code",
   "execution_count": null,
   "metadata": {},
   "outputs": [],
   "source": []
  }
 ],
 "metadata": {
  "accelerator": "GPU",
  "colab": {
   "name": "CNN - CIFAR 10.ipynb",
   "provenance": []
  },
  "gpuClass": "standard",
  "kernelspec": {
   "display_name": "Python 3 (ipykernel)",
   "language": "python",
   "name": "python3"
  },
  "language_info": {
   "codemirror_mode": {
    "name": "ipython",
    "version": 3
   },
   "file_extension": ".py",
   "mimetype": "text/x-python",
   "name": "python",
   "nbconvert_exporter": "python",
   "pygments_lexer": "ipython3",
   "version": "3.9.12"
  }
 },
 "nbformat": 4,
 "nbformat_minor": 1
}
