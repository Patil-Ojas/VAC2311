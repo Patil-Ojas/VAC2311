{
  "cells": [
    {
      "cell_type": "markdown",
      "metadata": {
        "id": "XylxpK99y58c"
      },
      "source": [
        "# Big Data Distribution - Join, groupBy, Pivot\n",
        "Name: Ojas Patil\n",
        "\n",
        "Reg No. - 21BAI1106"
      ]
    },
    {
      "cell_type": "markdown",
      "metadata": {
        "id": "Xv3cs5buy_K8"
      },
      "source": [
        "## Problem statement:\n",
        "\n",
        "The ABC bank customer details are given in two different csv files.\n",
        "\n",
        "1. Perform inner join, outer join, left and right join and cross join.\n",
        "\n",
        "2. Find the average age of the customer based on their job.\n",
        "\n",
        "3. Consider the job and marital status of the customer and find their average age.\n",
        "\n",
        "4. What will be the max and min duration of the customer call duration?\n",
        "\n",
        "5. Pivot the marital status and job based on their average age"
      ]
    },
    {
      "cell_type": "code",
      "execution_count": 2,
      "metadata": {
        "colab": {
          "base_uri": "https://localhost:8080/"
        },
        "id": "lO6bHnRLuriD",
        "outputId": "7138e615-c129-4e3f-bf6b-2cb0085ded53"
      },
      "outputs": [
        {
          "name": "stdout",
          "output_type": "stream",
          "text": [
            "Collecting pyspark\n",
            "  Downloading pyspark-3.5.0.tar.gz (316.9 MB)\n",
            "\u001b[2K     \u001b[90m━━━━━━━━━━━━━━━━━━━━━━━━━━━━━━━━━━━━━━━━\u001b[0m \u001b[32m316.9/316.9 MB\u001b[0m \u001b[31m4.4 MB/s\u001b[0m eta \u001b[36m0:00:00\u001b[0m\n",
            "\u001b[?25h  Preparing metadata (setup.py) ... \u001b[?25l\u001b[?25hdone\n",
            "Requirement already satisfied: py4j==0.10.9.7 in /usr/local/lib/python3.10/dist-packages (from pyspark) (0.10.9.7)\n",
            "Building wheels for collected packages: pyspark\n",
            "  Building wheel for pyspark (setup.py) ... \u001b[?25l\u001b[?25hdone\n",
            "  Created wheel for pyspark: filename=pyspark-3.5.0-py2.py3-none-any.whl size=317425344 sha256=6209118bc0bd3d2d14348b35a299ab92d52a3966cf3287392734cae9c1e07317\n",
            "  Stored in directory: /root/.cache/pip/wheels/41/4e/10/c2cf2467f71c678cfc8a6b9ac9241e5e44a01940da8fbb17fc\n",
            "Successfully built pyspark\n",
            "Installing collected packages: pyspark\n",
            "Successfully installed pyspark-3.5.0\n"
          ]
        }
      ],
      "source": [
        "!pip install pyspark"
      ]
    },
    {
      "cell_type": "code",
      "execution_count": 3,
      "metadata": {
        "id": "8Vo9OmXDy5E0"
      },
      "outputs": [],
      "source": [
        "import pyspark\n",
        "from pyspark.sql import SparkSession\n",
        "\n",
        "spark=SparkSession.builder.appName('CarPricePrediction').getOrCreate()"
      ]
    },
    {
      "cell_type": "code",
      "execution_count": 4,
      "metadata": {
        "colab": {
          "base_uri": "https://localhost:8080/",
          "height": 219
        },
        "id": "Ro7fy1Aazkj_",
        "outputId": "7eb2f58a-7fef-4a0d-fafa-33c398012201"
      },
      "outputs": [
        {
          "data": {
            "text/html": [
              "\n",
              "            <div>\n",
              "                <p><b>SparkSession - in-memory</b></p>\n",
              "                \n",
              "        <div>\n",
              "            <p><b>SparkContext</b></p>\n",
              "\n",
              "            <p><a href=\"http://a43d4f807a70:4040\">Spark UI</a></p>\n",
              "\n",
              "            <dl>\n",
              "              <dt>Version</dt>\n",
              "                <dd><code>v3.5.0</code></dd>\n",
              "              <dt>Master</dt>\n",
              "                <dd><code>local[*]</code></dd>\n",
              "              <dt>AppName</dt>\n",
              "                <dd><code>CarPricePrediction</code></dd>\n",
              "            </dl>\n",
              "        </div>\n",
              "        \n",
              "            </div>\n",
              "        "
            ],
            "text/plain": [
              "<pyspark.sql.session.SparkSession at 0x7abdde7cc610>"
            ]
          },
          "execution_count": 4,
          "metadata": {},
          "output_type": "execute_result"
        }
      ],
      "source": [
        "spark"
      ]
    },
    {
      "cell_type": "code",
      "execution_count": 8,
      "metadata": {
        "id": "99m0iQeN1Kq1"
      },
      "outputs": [],
      "source": [
        "df1 = spark.read.csv('/content/ABC_1st_half.csv',header=True,inferSchema=True)\n",
        "df2 = spark.read.csv('/content/ABC_2nd_half.csv',header=True,inferSchema=True)"
      ]
    },
    {
      "cell_type": "code",
      "execution_count": 9,
      "metadata": {
        "colab": {
          "base_uri": "https://localhost:8080/"
        },
        "id": "arw_9C2r1ho8",
        "outputId": "c8434720-bf7f-45f2-df15-2b4db6fa7a40"
      },
      "outputs": [
        {
          "name": "stdout",
          "output_type": "stream",
          "text": [
            "+-------+---+-----------+--------+-------------------+-------+-------+-------+---------+\n",
            "|Cust_id|age|        job| marital|          education|default|housing|   loan|  contact|\n",
            "+-------+---+-----------+--------+-------------------+-------+-------+-------+---------+\n",
            "|      1| 56|  housemaid| married|           basic.4y|     no|     no|     no|telephone|\n",
            "|      2| 57|   services| married|        high.school|unknown|     no|     no|telephone|\n",
            "|      4| 40|     admin.| married|           basic.6y|     no|     no|     no|telephone|\n",
            "|      5| 56|   services| married|        high.school|     no|     no|    yes|telephone|\n",
            "|      8| 41|blue-collar| married|            unknown|unknown|     no|     no|telephone|\n",
            "|      9| 24| technician|  single|professional.course|     no|    yes|     no|telephone|\n",
            "|     11| 41|blue-collar| married|            unknown|unknown|     no|     no|telephone|\n",
            "|     12| 25|   services|  single|        high.school|     no|    yes|     no|telephone|\n",
            "|     13| 29|blue-collar|  single|        high.school|     no|     no|    yes|telephone|\n",
            "|     14| 57|  housemaid|divorced|           basic.4y|     no|    yes|     no|telephone|\n",
            "|     18| 46|blue-collar| married|           basic.6y|unknown|    yes|    yes|telephone|\n",
            "|     19| 50|blue-collar| married|           basic.9y|     no|    yes|    yes|telephone|\n",
            "|     20| 39| management|  single|           basic.9y|unknown|     no|     no|telephone|\n",
            "|     22| 55|blue-collar| married|           basic.4y|unknown|    yes|     no|telephone|\n",
            "|     23| 55|    retired|  single|        high.school|     no|    yes|     no|telephone|\n",
            "|     25| 37|     admin.| married|        high.school|     no|    yes|     no|telephone|\n",
            "|     26| 35| technician| married|  university.degree|     no|     no|    yes|telephone|\n",
            "|     27| 59| technician| married|            unknown|     no|    yes|     no|telephone|\n",
            "|     29| 54| technician|  single|  university.degree|unknown|     no|     no|telephone|\n",
            "|     30| 55|    unknown| married|  university.degree|unknown|unknown|unknown|telephone|\n",
            "+-------+---+-----------+--------+-------------------+-------+-------+-------+---------+\n",
            "only showing top 20 rows\n",
            "\n"
          ]
        }
      ],
      "source": [
        "df1.show()"
      ]
    },
    {
      "cell_type": "code",
      "execution_count": 10,
      "metadata": {
        "colab": {
          "base_uri": "https://localhost:8080/"
        },
        "id": "hBOEd96l1iwk",
        "outputId": "70b3db4d-6a8b-4e41-eb9f-e6674d2693d7"
      },
      "outputs": [
        {
          "name": "stdout",
          "output_type": "stream",
          "text": [
            "+-------+-----+-----------+--------+--------+-----+--------+-----------+------------+--------------+-------------+---------+-----------+---+\n",
            "|Cust_id|month|day_of_week|duration|campaign|pdays|previous|   poutcome|emp.var.rate|cons.price.idx|cons.conf.idx|euribor3m|nr.employed|  y|\n",
            "+-------+-----+-----------+--------+--------+-----+--------+-----------+------------+--------------+-------------+---------+-----------+---+\n",
            "|      1|  may|        mon|     261|       1|  999|       0|nonexistent|         1.1|        93.994|        -36.4|    4.857|       5191| no|\n",
            "|      3|  may|        mon|     226|       1|  999|       0|nonexistent|         1.1|        93.994|        -36.4|    4.857|       5191| no|\n",
            "|      4|  may|        mon|     151|       1|  999|       0|nonexistent|         1.1|        93.994|        -36.4|    4.857|       5191| no|\n",
            "|      5|  may|        mon|     307|       1|  999|       0|nonexistent|         1.1|        93.994|        -36.4|    4.857|       5191| no|\n",
            "|      6|  may|        mon|     198|       1|  999|       0|nonexistent|         1.1|        93.994|        -36.4|    4.857|       5191| no|\n",
            "|      7|  may|        mon|     139|       1|  999|       0|nonexistent|         1.1|        93.994|        -36.4|    4.857|       5191| no|\n",
            "|      8|  may|        mon|     217|       1|  999|       0|nonexistent|         1.1|        93.994|        -36.4|    4.857|       5191| no|\n",
            "|     10|  may|        mon|      50|       1|  999|       0|nonexistent|         1.1|        93.994|        -36.4|    4.857|       5191| no|\n",
            "|     11|  may|        mon|      55|       1|  999|       0|nonexistent|         1.1|        93.994|        -36.4|    4.857|       5191| no|\n",
            "|     12|  may|        mon|     222|       1|  999|       0|nonexistent|         1.1|        93.994|        -36.4|    4.857|       5191| no|\n",
            "|     15|  may|        mon|     146|       1|  999|       0|nonexistent|         1.1|        93.994|        -36.4|    4.857|       5191| no|\n",
            "|     16|  may|        mon|     174|       1|  999|       0|nonexistent|         1.1|        93.994|        -36.4|    4.857|       5191| no|\n",
            "|     17|  may|        mon|     312|       1|  999|       0|nonexistent|         1.1|        93.994|        -36.4|    4.857|       5191| no|\n",
            "|     18|  may|        mon|     440|       1|  999|       0|nonexistent|         1.1|        93.994|        -36.4|    4.857|       5191| no|\n",
            "|     21|  may|        mon|      38|       1|  999|       0|nonexistent|         1.1|        93.994|        -36.4|    4.857|       5191| no|\n",
            "|     22|  may|        mon|     262|       1|  999|       0|nonexistent|         1.1|        93.994|        -36.4|    4.857|       5191| no|\n",
            "|     23|  may|        mon|     342|       1|  999|       0|nonexistent|         1.1|        93.994|        -36.4|    4.857|       5191| no|\n",
            "|     24|  may|        mon|     181|       1|  999|       0|nonexistent|         1.1|        93.994|        -36.4|    4.857|       5191| no|\n",
            "|     25|  may|        mon|     172|       1|  999|       0|nonexistent|         1.1|        93.994|        -36.4|    4.857|       5191| no|\n",
            "|     26|  may|        mon|      99|       1|  999|       0|nonexistent|         1.1|        93.994|        -36.4|    4.857|       5191| no|\n",
            "+-------+-----+-----------+--------+--------+-----+--------+-----------+------------+--------------+-------------+---------+-----------+---+\n",
            "only showing top 20 rows\n",
            "\n"
          ]
        }
      ],
      "source": [
        "df2.show()"
      ]
    },
    {
      "cell_type": "code",
      "execution_count": 11,
      "metadata": {
        "colab": {
          "base_uri": "https://localhost:8080/"
        },
        "id": "VFAmz7Py1jrq",
        "outputId": "1b4e44dd-82b8-4bd6-e222-159e2a1b782b"
      },
      "outputs": [
        {
          "name": "stdout",
          "output_type": "stream",
          "text": [
            "root\n",
            " |-- Cust_id: integer (nullable = true)\n",
            " |-- age: integer (nullable = true)\n",
            " |-- job: string (nullable = true)\n",
            " |-- marital: string (nullable = true)\n",
            " |-- education: string (nullable = true)\n",
            " |-- default: string (nullable = true)\n",
            " |-- housing: string (nullable = true)\n",
            " |-- loan: string (nullable = true)\n",
            " |-- contact: string (nullable = true)\n",
            "\n"
          ]
        }
      ],
      "source": [
        "df1.printSchema()"
      ]
    },
    {
      "cell_type": "code",
      "execution_count": 12,
      "metadata": {
        "colab": {
          "base_uri": "https://localhost:8080/"
        },
        "id": "U-0SS8w518Zb",
        "outputId": "6f8a083b-dcde-4ef5-af4c-50a146dd4b51"
      },
      "outputs": [
        {
          "name": "stdout",
          "output_type": "stream",
          "text": [
            "root\n",
            " |-- Cust_id: integer (nullable = true)\n",
            " |-- month: string (nullable = true)\n",
            " |-- day_of_week: string (nullable = true)\n",
            " |-- duration: integer (nullable = true)\n",
            " |-- campaign: integer (nullable = true)\n",
            " |-- pdays: integer (nullable = true)\n",
            " |-- previous: integer (nullable = true)\n",
            " |-- poutcome: string (nullable = true)\n",
            " |-- emp.var.rate: double (nullable = true)\n",
            " |-- cons.price.idx: double (nullable = true)\n",
            " |-- cons.conf.idx: double (nullable = true)\n",
            " |-- euribor3m: double (nullable = true)\n",
            " |-- nr.employed: integer (nullable = true)\n",
            " |-- y: string (nullable = true)\n",
            "\n"
          ]
        }
      ],
      "source": [
        "df2.printSchema()"
      ]
    },
    {
      "cell_type": "markdown",
      "metadata": {
        "id": "3LD2UetT2L85"
      },
      "source": [
        "### 1. Perform inner join, outer join, left and right join and cross join."
      ]
    },
    {
      "cell_type": "code",
      "execution_count": 14,
      "metadata": {
        "colab": {
          "base_uri": "https://localhost:8080/"
        },
        "id": "krUSd6p82Ljg",
        "outputId": "adaf0136-f34f-4d46-e1ea-83c727f32f23"
      },
      "outputs": [
        {
          "name": "stdout",
          "output_type": "stream",
          "text": [
            "+-------+---+-----------+--------+-----------------+-------+-------+-------+---------+-----+-----------+--------+--------+-----+--------+-----------+------------+--------------+-------------+---------+-----------+---+\n",
            "|Cust_id|age|        job| marital|        education|default|housing|   loan|  contact|month|day_of_week|duration|campaign|pdays|previous|   poutcome|emp.var.rate|cons.price.idx|cons.conf.idx|euribor3m|nr.employed|  y|\n",
            "+-------+---+-----------+--------+-----------------+-------+-------+-------+---------+-----+-----------+--------+--------+-----+--------+-----------+------------+--------------+-------------+---------+-----------+---+\n",
            "|      1| 56|  housemaid| married|         basic.4y|     no|     no|     no|telephone|  may|        mon|     261|       1|  999|       0|nonexistent|         1.1|        93.994|        -36.4|    4.857|       5191| no|\n",
            "|      4| 40|     admin.| married|         basic.6y|     no|     no|     no|telephone|  may|        mon|     151|       1|  999|       0|nonexistent|         1.1|        93.994|        -36.4|    4.857|       5191| no|\n",
            "|      5| 56|   services| married|      high.school|     no|     no|    yes|telephone|  may|        mon|     307|       1|  999|       0|nonexistent|         1.1|        93.994|        -36.4|    4.857|       5191| no|\n",
            "|      8| 41|blue-collar| married|          unknown|unknown|     no|     no|telephone|  may|        mon|     217|       1|  999|       0|nonexistent|         1.1|        93.994|        -36.4|    4.857|       5191| no|\n",
            "|     11| 41|blue-collar| married|          unknown|unknown|     no|     no|telephone|  may|        mon|      55|       1|  999|       0|nonexistent|         1.1|        93.994|        -36.4|    4.857|       5191| no|\n",
            "|     12| 25|   services|  single|      high.school|     no|    yes|     no|telephone|  may|        mon|     222|       1|  999|       0|nonexistent|         1.1|        93.994|        -36.4|    4.857|       5191| no|\n",
            "|     18| 46|blue-collar| married|         basic.6y|unknown|    yes|    yes|telephone|  may|        mon|     440|       1|  999|       0|nonexistent|         1.1|        93.994|        -36.4|    4.857|       5191| no|\n",
            "|     22| 55|blue-collar| married|         basic.4y|unknown|    yes|     no|telephone|  may|        mon|     262|       1|  999|       0|nonexistent|         1.1|        93.994|        -36.4|    4.857|       5191| no|\n",
            "|     23| 55|    retired|  single|      high.school|     no|    yes|     no|telephone|  may|        mon|     342|       1|  999|       0|nonexistent|         1.1|        93.994|        -36.4|    4.857|       5191| no|\n",
            "|     25| 37|     admin.| married|      high.school|     no|    yes|     no|telephone|  may|        mon|     172|       1|  999|       0|nonexistent|         1.1|        93.994|        -36.4|    4.857|       5191| no|\n",
            "|     26| 35| technician| married|university.degree|     no|     no|    yes|telephone|  may|        mon|      99|       1|  999|       0|nonexistent|         1.1|        93.994|        -36.4|    4.857|       5191| no|\n",
            "|     27| 59| technician| married|          unknown|     no|    yes|     no|telephone|  may|        mon|      93|       1|  999|       0|nonexistent|         1.1|        93.994|        -36.4|    4.857|       5191| no|\n",
            "|     29| 54| technician|  single|university.degree|unknown|     no|     no|telephone|  may|        mon|     255|       2|  999|       0|nonexistent|         1.1|        93.994|        -36.4|    4.857|       5191| no|\n",
            "|     30| 55|    unknown| married|university.degree|unknown|unknown|unknown|telephone|  may|        mon|     362|       1|  999|       0|nonexistent|         1.1|        93.994|        -36.4|    4.857|       5191| no|\n",
            "|     31| 46|     admin.| married|          unknown|     no|     no|     no|telephone|  may|        mon|     348|       1|  999|       0|nonexistent|         1.1|        93.994|        -36.4|    4.857|       5191| no|\n",
            "|     33| 49|blue-collar| married|          unknown|     no|     no|     no|telephone|  may|        mon|      73|       1|  999|       0|nonexistent|         1.1|        93.994|        -36.4|    4.857|       5191| no|\n",
            "|     34| 54| management| married|         basic.4y|unknown|    yes|     no|telephone|  may|        mon|     230|       1|  999|       0|nonexistent|         1.1|        93.994|        -36.4|    4.857|       5191| no|\n",
            "|     35| 54|blue-collar|divorced|         basic.4y|     no|     no|     no|telephone|  may|        mon|     208|       1|  999|       0|nonexistent|         1.1|        93.994|        -36.4|    4.857|       5191| no|\n",
            "|     37| 34|   services| married|      high.school|     no|     no|     no|telephone|  may|        mon|     365|       1|  999|       0|nonexistent|         1.1|        93.994|        -36.4|    4.857|       5191| no|\n",
            "|     38| 52| technician| married|         basic.9y|     no|    yes|     no|telephone|  may|        mon|    1666|       1|  999|       0|nonexistent|         1.1|        93.994|        -36.4|    4.857|       5191| no|\n",
            "+-------+---+-----------+--------+-----------------+-------+-------+-------+---------+-----+-----------+--------+--------+-----+--------+-----------+------------+--------------+-------------+---------+-----------+---+\n",
            "only showing top 20 rows\n",
            "\n"
          ]
        }
      ],
      "source": [
        "inner_join = df1.join(df2, \"Cust_id\", \"inner\")\n",
        "inner_join.show()"
      ]
    },
    {
      "cell_type": "code",
      "execution_count": 15,
      "metadata": {
        "colab": {
          "base_uri": "https://localhost:8080/"
        },
        "id": "GdJ1PlrT1_T8",
        "outputId": "913fb176-8a22-4042-dec1-03380fa9b8e1"
      },
      "outputs": [
        {
          "name": "stdout",
          "output_type": "stream",
          "text": [
            "+-------+----+-----------+--------+-------------------+-------+-------+----+---------+-----+-----------+--------+--------+-----+--------+-----------+------------+--------------+-------------+---------+-----------+----+\n",
            "|Cust_id| age|        job| marital|          education|default|housing|loan|  contact|month|day_of_week|duration|campaign|pdays|previous|   poutcome|emp.var.rate|cons.price.idx|cons.conf.idx|euribor3m|nr.employed|   y|\n",
            "+-------+----+-----------+--------+-------------------+-------+-------+----+---------+-----+-----------+--------+--------+-----+--------+-----------+------------+--------------+-------------+---------+-----------+----+\n",
            "|      1|  56|  housemaid| married|           basic.4y|     no|     no|  no|telephone|  may|        mon|     261|       1|  999|       0|nonexistent|         1.1|        93.994|        -36.4|    4.857|       5191|  no|\n",
            "|      3|NULL|       NULL|    NULL|               NULL|   NULL|   NULL|NULL|     NULL|  may|        mon|     226|       1|  999|       0|nonexistent|         1.1|        93.994|        -36.4|    4.857|       5191|  no|\n",
            "|      5|  56|   services| married|        high.school|     no|     no| yes|telephone|  may|        mon|     307|       1|  999|       0|nonexistent|         1.1|        93.994|        -36.4|    4.857|       5191|  no|\n",
            "|      6|NULL|       NULL|    NULL|               NULL|   NULL|   NULL|NULL|     NULL|  may|        mon|     198|       1|  999|       0|nonexistent|         1.1|        93.994|        -36.4|    4.857|       5191|  no|\n",
            "|      9|  24| technician|  single|professional.course|     no|    yes|  no|telephone| NULL|       NULL|    NULL|    NULL| NULL|    NULL|       NULL|        NULL|          NULL|         NULL|     NULL|       NULL|NULL|\n",
            "|     12|  25|   services|  single|        high.school|     no|    yes|  no|telephone|  may|        mon|     222|       1|  999|       0|nonexistent|         1.1|        93.994|        -36.4|    4.857|       5191|  no|\n",
            "|     13|  29|blue-collar|  single|        high.school|     no|     no| yes|telephone| NULL|       NULL|    NULL|    NULL| NULL|    NULL|       NULL|        NULL|          NULL|         NULL|     NULL|       NULL|NULL|\n",
            "|     15|NULL|       NULL|    NULL|               NULL|   NULL|   NULL|NULL|     NULL|  may|        mon|     146|       1|  999|       0|nonexistent|         1.1|        93.994|        -36.4|    4.857|       5191|  no|\n",
            "|     16|NULL|       NULL|    NULL|               NULL|   NULL|   NULL|NULL|     NULL|  may|        mon|     174|       1|  999|       0|nonexistent|         1.1|        93.994|        -36.4|    4.857|       5191|  no|\n",
            "|     17|NULL|       NULL|    NULL|               NULL|   NULL|   NULL|NULL|     NULL|  may|        mon|     312|       1|  999|       0|nonexistent|         1.1|        93.994|        -36.4|    4.857|       5191|  no|\n",
            "|     19|  50|blue-collar| married|           basic.9y|     no|    yes| yes|telephone| NULL|       NULL|    NULL|    NULL| NULL|    NULL|       NULL|        NULL|          NULL|         NULL|     NULL|       NULL|NULL|\n",
            "|     20|  39| management|  single|           basic.9y|unknown|     no|  no|telephone| NULL|       NULL|    NULL|    NULL| NULL|    NULL|       NULL|        NULL|          NULL|         NULL|     NULL|       NULL|NULL|\n",
            "|     22|  55|blue-collar| married|           basic.4y|unknown|    yes|  no|telephone|  may|        mon|     262|       1|  999|       0|nonexistent|         1.1|        93.994|        -36.4|    4.857|       5191|  no|\n",
            "|     26|  35| technician| married|  university.degree|     no|     no| yes|telephone|  may|        mon|      99|       1|  999|       0|nonexistent|         1.1|        93.994|        -36.4|    4.857|       5191|  no|\n",
            "|     27|  59| technician| married|            unknown|     no|    yes|  no|telephone|  may|        mon|      93|       1|  999|       0|nonexistent|         1.1|        93.994|        -36.4|    4.857|       5191|  no|\n",
            "|     28|NULL|       NULL|    NULL|               NULL|   NULL|   NULL|NULL|     NULL|  may|        mon|     233|       1|  999|       0|nonexistent|         1.1|        93.994|        -36.4|    4.857|       5191|  no|\n",
            "|     31|  46|     admin.| married|            unknown|     no|     no|  no|telephone|  may|        mon|     348|       1|  999|       0|nonexistent|         1.1|        93.994|        -36.4|    4.857|       5191|  no|\n",
            "|     34|  54| management| married|           basic.4y|unknown|    yes|  no|telephone|  may|        mon|     230|       1|  999|       0|nonexistent|         1.1|        93.994|        -36.4|    4.857|       5191|  no|\n",
            "|     35|  54|blue-collar|divorced|           basic.4y|     no|     no|  no|telephone|  may|        mon|     208|       1|  999|       0|nonexistent|         1.1|        93.994|        -36.4|    4.857|       5191|  no|\n",
            "|     37|  34|   services| married|        high.school|     no|     no|  no|telephone|  may|        mon|     365|       1|  999|       0|nonexistent|         1.1|        93.994|        -36.4|    4.857|       5191|  no|\n",
            "+-------+----+-----------+--------+-------------------+-------+-------+----+---------+-----+-----------+--------+--------+-----+--------+-----------+------------+--------------+-------------+---------+-----------+----+\n",
            "only showing top 20 rows\n",
            "\n"
          ]
        }
      ],
      "source": [
        "outer_join = df1.join(df2, \"Cust_id\", \"outer\")\n",
        "outer_join.show()"
      ]
    },
    {
      "cell_type": "code",
      "execution_count": 16,
      "metadata": {
        "colab": {
          "base_uri": "https://localhost:8080/"
        },
        "id": "L_KgrpcgFxz7",
        "outputId": "2de8f7d5-26cd-427d-c53b-a426f3cc585c"
      },
      "outputs": [
        {
          "name": "stdout",
          "output_type": "stream",
          "text": [
            "+-------+---+-----------+--------+-------------------+-------+-------+-------+---------+-----+-----------+--------+--------+-----+--------+-----------+------------+--------------+-------------+---------+-----------+----+\n",
            "|Cust_id|age|        job| marital|          education|default|housing|   loan|  contact|month|day_of_week|duration|campaign|pdays|previous|   poutcome|emp.var.rate|cons.price.idx|cons.conf.idx|euribor3m|nr.employed|   y|\n",
            "+-------+---+-----------+--------+-------------------+-------+-------+-------+---------+-----+-----------+--------+--------+-----+--------+-----------+------------+--------------+-------------+---------+-----------+----+\n",
            "|      1| 56|  housemaid| married|           basic.4y|     no|     no|     no|telephone|  may|        mon|     261|       1|  999|       0|nonexistent|         1.1|        93.994|        -36.4|    4.857|       5191|  no|\n",
            "|      2| 57|   services| married|        high.school|unknown|     no|     no|telephone| NULL|       NULL|    NULL|    NULL| NULL|    NULL|       NULL|        NULL|          NULL|         NULL|     NULL|       NULL|NULL|\n",
            "|      4| 40|     admin.| married|           basic.6y|     no|     no|     no|telephone|  may|        mon|     151|       1|  999|       0|nonexistent|         1.1|        93.994|        -36.4|    4.857|       5191|  no|\n",
            "|      5| 56|   services| married|        high.school|     no|     no|    yes|telephone|  may|        mon|     307|       1|  999|       0|nonexistent|         1.1|        93.994|        -36.4|    4.857|       5191|  no|\n",
            "|      8| 41|blue-collar| married|            unknown|unknown|     no|     no|telephone|  may|        mon|     217|       1|  999|       0|nonexistent|         1.1|        93.994|        -36.4|    4.857|       5191|  no|\n",
            "|      9| 24| technician|  single|professional.course|     no|    yes|     no|telephone| NULL|       NULL|    NULL|    NULL| NULL|    NULL|       NULL|        NULL|          NULL|         NULL|     NULL|       NULL|NULL|\n",
            "|     11| 41|blue-collar| married|            unknown|unknown|     no|     no|telephone|  may|        mon|      55|       1|  999|       0|nonexistent|         1.1|        93.994|        -36.4|    4.857|       5191|  no|\n",
            "|     12| 25|   services|  single|        high.school|     no|    yes|     no|telephone|  may|        mon|     222|       1|  999|       0|nonexistent|         1.1|        93.994|        -36.4|    4.857|       5191|  no|\n",
            "|     13| 29|blue-collar|  single|        high.school|     no|     no|    yes|telephone| NULL|       NULL|    NULL|    NULL| NULL|    NULL|       NULL|        NULL|          NULL|         NULL|     NULL|       NULL|NULL|\n",
            "|     14| 57|  housemaid|divorced|           basic.4y|     no|    yes|     no|telephone| NULL|       NULL|    NULL|    NULL| NULL|    NULL|       NULL|        NULL|          NULL|         NULL|     NULL|       NULL|NULL|\n",
            "|     18| 46|blue-collar| married|           basic.6y|unknown|    yes|    yes|telephone|  may|        mon|     440|       1|  999|       0|nonexistent|         1.1|        93.994|        -36.4|    4.857|       5191|  no|\n",
            "|     19| 50|blue-collar| married|           basic.9y|     no|    yes|    yes|telephone| NULL|       NULL|    NULL|    NULL| NULL|    NULL|       NULL|        NULL|          NULL|         NULL|     NULL|       NULL|NULL|\n",
            "|     20| 39| management|  single|           basic.9y|unknown|     no|     no|telephone| NULL|       NULL|    NULL|    NULL| NULL|    NULL|       NULL|        NULL|          NULL|         NULL|     NULL|       NULL|NULL|\n",
            "|     22| 55|blue-collar| married|           basic.4y|unknown|    yes|     no|telephone|  may|        mon|     262|       1|  999|       0|nonexistent|         1.1|        93.994|        -36.4|    4.857|       5191|  no|\n",
            "|     23| 55|    retired|  single|        high.school|     no|    yes|     no|telephone|  may|        mon|     342|       1|  999|       0|nonexistent|         1.1|        93.994|        -36.4|    4.857|       5191|  no|\n",
            "|     25| 37|     admin.| married|        high.school|     no|    yes|     no|telephone|  may|        mon|     172|       1|  999|       0|nonexistent|         1.1|        93.994|        -36.4|    4.857|       5191|  no|\n",
            "|     26| 35| technician| married|  university.degree|     no|     no|    yes|telephone|  may|        mon|      99|       1|  999|       0|nonexistent|         1.1|        93.994|        -36.4|    4.857|       5191|  no|\n",
            "|     27| 59| technician| married|            unknown|     no|    yes|     no|telephone|  may|        mon|      93|       1|  999|       0|nonexistent|         1.1|        93.994|        -36.4|    4.857|       5191|  no|\n",
            "|     29| 54| technician|  single|  university.degree|unknown|     no|     no|telephone|  may|        mon|     255|       2|  999|       0|nonexistent|         1.1|        93.994|        -36.4|    4.857|       5191|  no|\n",
            "|     30| 55|    unknown| married|  university.degree|unknown|unknown|unknown|telephone|  may|        mon|     362|       1|  999|       0|nonexistent|         1.1|        93.994|        -36.4|    4.857|       5191|  no|\n",
            "+-------+---+-----------+--------+-------------------+-------+-------+-------+---------+-----+-----------+--------+--------+-----+--------+-----------+------------+--------------+-------------+---------+-----------+----+\n",
            "only showing top 20 rows\n",
            "\n"
          ]
        }
      ],
      "source": [
        "left_join = df1.join(df2, \"Cust_id\", \"left\")\n",
        "left_join.show()"
      ]
    },
    {
      "cell_type": "code",
      "execution_count": 17,
      "metadata": {
        "colab": {
          "base_uri": "https://localhost:8080/"
        },
        "id": "a99-jNpTF4yO",
        "outputId": "38b7f7a0-4702-4a8c-d34c-4c5896fa8326"
      },
      "outputs": [
        {
          "name": "stdout",
          "output_type": "stream",
          "text": [
            "+-------+----+-----------+-------+-----------------+-------+-------+----+---------+-----+-----------+--------+--------+-----+--------+-----------+------------+--------------+-------------+---------+-----------+---+\n",
            "|Cust_id| age|        job|marital|        education|default|housing|loan|  contact|month|day_of_week|duration|campaign|pdays|previous|   poutcome|emp.var.rate|cons.price.idx|cons.conf.idx|euribor3m|nr.employed|  y|\n",
            "+-------+----+-----------+-------+-----------------+-------+-------+----+---------+-----+-----------+--------+--------+-----+--------+-----------+------------+--------------+-------------+---------+-----------+---+\n",
            "|      1|  56|  housemaid|married|         basic.4y|     no|     no|  no|telephone|  may|        mon|     261|       1|  999|       0|nonexistent|         1.1|        93.994|        -36.4|    4.857|       5191| no|\n",
            "|      3|NULL|       NULL|   NULL|             NULL|   NULL|   NULL|NULL|     NULL|  may|        mon|     226|       1|  999|       0|nonexistent|         1.1|        93.994|        -36.4|    4.857|       5191| no|\n",
            "|      4|  40|     admin.|married|         basic.6y|     no|     no|  no|telephone|  may|        mon|     151|       1|  999|       0|nonexistent|         1.1|        93.994|        -36.4|    4.857|       5191| no|\n",
            "|      5|  56|   services|married|      high.school|     no|     no| yes|telephone|  may|        mon|     307|       1|  999|       0|nonexistent|         1.1|        93.994|        -36.4|    4.857|       5191| no|\n",
            "|      6|NULL|       NULL|   NULL|             NULL|   NULL|   NULL|NULL|     NULL|  may|        mon|     198|       1|  999|       0|nonexistent|         1.1|        93.994|        -36.4|    4.857|       5191| no|\n",
            "|      7|NULL|       NULL|   NULL|             NULL|   NULL|   NULL|NULL|     NULL|  may|        mon|     139|       1|  999|       0|nonexistent|         1.1|        93.994|        -36.4|    4.857|       5191| no|\n",
            "|      8|  41|blue-collar|married|          unknown|unknown|     no|  no|telephone|  may|        mon|     217|       1|  999|       0|nonexistent|         1.1|        93.994|        -36.4|    4.857|       5191| no|\n",
            "|     10|NULL|       NULL|   NULL|             NULL|   NULL|   NULL|NULL|     NULL|  may|        mon|      50|       1|  999|       0|nonexistent|         1.1|        93.994|        -36.4|    4.857|       5191| no|\n",
            "|     11|  41|blue-collar|married|          unknown|unknown|     no|  no|telephone|  may|        mon|      55|       1|  999|       0|nonexistent|         1.1|        93.994|        -36.4|    4.857|       5191| no|\n",
            "|     12|  25|   services| single|      high.school|     no|    yes|  no|telephone|  may|        mon|     222|       1|  999|       0|nonexistent|         1.1|        93.994|        -36.4|    4.857|       5191| no|\n",
            "|     15|NULL|       NULL|   NULL|             NULL|   NULL|   NULL|NULL|     NULL|  may|        mon|     146|       1|  999|       0|nonexistent|         1.1|        93.994|        -36.4|    4.857|       5191| no|\n",
            "|     16|NULL|       NULL|   NULL|             NULL|   NULL|   NULL|NULL|     NULL|  may|        mon|     174|       1|  999|       0|nonexistent|         1.1|        93.994|        -36.4|    4.857|       5191| no|\n",
            "|     17|NULL|       NULL|   NULL|             NULL|   NULL|   NULL|NULL|     NULL|  may|        mon|     312|       1|  999|       0|nonexistent|         1.1|        93.994|        -36.4|    4.857|       5191| no|\n",
            "|     18|  46|blue-collar|married|         basic.6y|unknown|    yes| yes|telephone|  may|        mon|     440|       1|  999|       0|nonexistent|         1.1|        93.994|        -36.4|    4.857|       5191| no|\n",
            "|     21|NULL|       NULL|   NULL|             NULL|   NULL|   NULL|NULL|     NULL|  may|        mon|      38|       1|  999|       0|nonexistent|         1.1|        93.994|        -36.4|    4.857|       5191| no|\n",
            "|     22|  55|blue-collar|married|         basic.4y|unknown|    yes|  no|telephone|  may|        mon|     262|       1|  999|       0|nonexistent|         1.1|        93.994|        -36.4|    4.857|       5191| no|\n",
            "|     23|  55|    retired| single|      high.school|     no|    yes|  no|telephone|  may|        mon|     342|       1|  999|       0|nonexistent|         1.1|        93.994|        -36.4|    4.857|       5191| no|\n",
            "|     24|NULL|       NULL|   NULL|             NULL|   NULL|   NULL|NULL|     NULL|  may|        mon|     181|       1|  999|       0|nonexistent|         1.1|        93.994|        -36.4|    4.857|       5191| no|\n",
            "|     25|  37|     admin.|married|      high.school|     no|    yes|  no|telephone|  may|        mon|     172|       1|  999|       0|nonexistent|         1.1|        93.994|        -36.4|    4.857|       5191| no|\n",
            "|     26|  35| technician|married|university.degree|     no|     no| yes|telephone|  may|        mon|      99|       1|  999|       0|nonexistent|         1.1|        93.994|        -36.4|    4.857|       5191| no|\n",
            "+-------+----+-----------+-------+-----------------+-------+-------+----+---------+-----+-----------+--------+--------+-----+--------+-----------+------------+--------------+-------------+---------+-----------+---+\n",
            "only showing top 20 rows\n",
            "\n"
          ]
        }
      ],
      "source": [
        "right_join = df1.join(df2, \"Cust_id\", \"right\")\n",
        "right_join.show()"
      ]
    },
    {
      "cell_type": "code",
      "execution_count": 18,
      "metadata": {
        "colab": {
          "base_uri": "https://localhost:8080/"
        },
        "id": "BIDtM-tTF8Em",
        "outputId": "4288f427-fed9-4fb7-cdd3-cf88b83b7a1f"
      },
      "outputs": [
        {
          "name": "stdout",
          "output_type": "stream",
          "text": [
            "+-------+---+-----------+--------+-----------------+-------+-------+-------+---------+-----+-----------+--------+--------+-----+--------+-----------+------------+--------------+-------------+---------+-----------+---+\n",
            "|Cust_id|age|        job| marital|        education|default|housing|   loan|  contact|month|day_of_week|duration|campaign|pdays|previous|   poutcome|emp.var.rate|cons.price.idx|cons.conf.idx|euribor3m|nr.employed|  y|\n",
            "+-------+---+-----------+--------+-----------------+-------+-------+-------+---------+-----+-----------+--------+--------+-----+--------+-----------+------------+--------------+-------------+---------+-----------+---+\n",
            "|      1| 56|  housemaid| married|         basic.4y|     no|     no|     no|telephone|  may|        mon|     261|       1|  999|       0|nonexistent|         1.1|        93.994|        -36.4|    4.857|       5191| no|\n",
            "|      4| 40|     admin.| married|         basic.6y|     no|     no|     no|telephone|  may|        mon|     151|       1|  999|       0|nonexistent|         1.1|        93.994|        -36.4|    4.857|       5191| no|\n",
            "|      5| 56|   services| married|      high.school|     no|     no|    yes|telephone|  may|        mon|     307|       1|  999|       0|nonexistent|         1.1|        93.994|        -36.4|    4.857|       5191| no|\n",
            "|      8| 41|blue-collar| married|          unknown|unknown|     no|     no|telephone|  may|        mon|     217|       1|  999|       0|nonexistent|         1.1|        93.994|        -36.4|    4.857|       5191| no|\n",
            "|     11| 41|blue-collar| married|          unknown|unknown|     no|     no|telephone|  may|        mon|      55|       1|  999|       0|nonexistent|         1.1|        93.994|        -36.4|    4.857|       5191| no|\n",
            "|     12| 25|   services|  single|      high.school|     no|    yes|     no|telephone|  may|        mon|     222|       1|  999|       0|nonexistent|         1.1|        93.994|        -36.4|    4.857|       5191| no|\n",
            "|     18| 46|blue-collar| married|         basic.6y|unknown|    yes|    yes|telephone|  may|        mon|     440|       1|  999|       0|nonexistent|         1.1|        93.994|        -36.4|    4.857|       5191| no|\n",
            "|     22| 55|blue-collar| married|         basic.4y|unknown|    yes|     no|telephone|  may|        mon|     262|       1|  999|       0|nonexistent|         1.1|        93.994|        -36.4|    4.857|       5191| no|\n",
            "|     23| 55|    retired|  single|      high.school|     no|    yes|     no|telephone|  may|        mon|     342|       1|  999|       0|nonexistent|         1.1|        93.994|        -36.4|    4.857|       5191| no|\n",
            "|     25| 37|     admin.| married|      high.school|     no|    yes|     no|telephone|  may|        mon|     172|       1|  999|       0|nonexistent|         1.1|        93.994|        -36.4|    4.857|       5191| no|\n",
            "|     26| 35| technician| married|university.degree|     no|     no|    yes|telephone|  may|        mon|      99|       1|  999|       0|nonexistent|         1.1|        93.994|        -36.4|    4.857|       5191| no|\n",
            "|     27| 59| technician| married|          unknown|     no|    yes|     no|telephone|  may|        mon|      93|       1|  999|       0|nonexistent|         1.1|        93.994|        -36.4|    4.857|       5191| no|\n",
            "|     29| 54| technician|  single|university.degree|unknown|     no|     no|telephone|  may|        mon|     255|       2|  999|       0|nonexistent|         1.1|        93.994|        -36.4|    4.857|       5191| no|\n",
            "|     30| 55|    unknown| married|university.degree|unknown|unknown|unknown|telephone|  may|        mon|     362|       1|  999|       0|nonexistent|         1.1|        93.994|        -36.4|    4.857|       5191| no|\n",
            "|     31| 46|     admin.| married|          unknown|     no|     no|     no|telephone|  may|        mon|     348|       1|  999|       0|nonexistent|         1.1|        93.994|        -36.4|    4.857|       5191| no|\n",
            "|     33| 49|blue-collar| married|          unknown|     no|     no|     no|telephone|  may|        mon|      73|       1|  999|       0|nonexistent|         1.1|        93.994|        -36.4|    4.857|       5191| no|\n",
            "|     34| 54| management| married|         basic.4y|unknown|    yes|     no|telephone|  may|        mon|     230|       1|  999|       0|nonexistent|         1.1|        93.994|        -36.4|    4.857|       5191| no|\n",
            "|     35| 54|blue-collar|divorced|         basic.4y|     no|     no|     no|telephone|  may|        mon|     208|       1|  999|       0|nonexistent|         1.1|        93.994|        -36.4|    4.857|       5191| no|\n",
            "|     37| 34|   services| married|      high.school|     no|     no|     no|telephone|  may|        mon|     365|       1|  999|       0|nonexistent|         1.1|        93.994|        -36.4|    4.857|       5191| no|\n",
            "|     38| 52| technician| married|         basic.9y|     no|    yes|     no|telephone|  may|        mon|    1666|       1|  999|       0|nonexistent|         1.1|        93.994|        -36.4|    4.857|       5191| no|\n",
            "+-------+---+-----------+--------+-----------------+-------+-------+-------+---------+-----+-----------+--------+--------+-----+--------+-----------+------------+--------------+-------------+---------+-----------+---+\n",
            "only showing top 20 rows\n",
            "\n"
          ]
        }
      ],
      "source": [
        "cross_join = df1.join(df2, \"Cust_id\", \"cross\")\n",
        "cross_join.show()"
      ]
    },
    {
      "cell_type": "markdown",
      "metadata": {
        "id": "fXfS12CFG5Va"
      },
      "source": [
        "## 2. Find the average age of the customer based on their job."
      ]
    },
    {
      "cell_type": "code",
      "execution_count": 19,
      "metadata": {
        "colab": {
          "base_uri": "https://localhost:8080/"
        },
        "id": "rj70LWBiGAuX",
        "outputId": "9bb80cf0-628a-4ada-ec11-305417e2f91f"
      },
      "outputs": [
        {
          "name": "stdout",
          "output_type": "stream",
          "text": [
            "+-------------+------------------+\n",
            "|          job|          avg(age)|\n",
            "+-------------+------------------+\n",
            "|   management| 42.36285909712722|\n",
            "|      retired|62.031995346131474|\n",
            "|      unknown| 45.53495440729483|\n",
            "|self-employed|             39.95|\n",
            "|      student| 25.89485714285714|\n",
            "|  blue-collar| 39.55674448767834|\n",
            "| entrepreneur|41.723214285714285|\n",
            "|       admin.| 38.18529891565109|\n",
            "|   technician|38.504227859368044|\n",
            "|     services|37.928139183055976|\n",
            "|    housemaid|              45.5|\n",
            "|   unemployed| 39.74333662388944|\n",
            "+-------------+------------------+\n",
            "\n"
          ]
        }
      ],
      "source": [
        "avg_age = df1.groupBy(\"job\").avg(\"age\")\n",
        "avg_age.show()"
      ]
    },
    {
      "cell_type": "markdown",
      "metadata": {
        "id": "F20n7n_hG9Hr"
      },
      "source": [
        "## 3. Consider the job and marital status of the customer and find their average age."
      ]
    },
    {
      "cell_type": "code",
      "execution_count": 22,
      "metadata": {
        "colab": {
          "base_uri": "https://localhost:8080/"
        },
        "id": "Qq58B18IGl48",
        "outputId": "f908f49d-d393-4ebb-b168-fdd83e93d3b3"
      },
      "outputs": [
        {
          "name": "stdout",
          "output_type": "stream",
          "text": [
            "+------------+--------+------------------+\n",
            "|         job| marital|          avg(age)|\n",
            "+------------+--------+------------------+\n",
            "|entrepreneur| married|42.527544351073765|\n",
            "|     unknown| married| 48.27038626609442|\n",
            "|     student| unknown|              30.0|\n",
            "|  unemployed|  single|33.254980079681275|\n",
            "|      admin.|  single|33.645935483870964|\n",
            "| blue-collar|divorced| 42.84065934065934|\n",
            "|   housemaid| married|45.745173745173744|\n",
            "|     unknown|  single|36.608108108108105|\n",
            "|     unknown| unknown|40.333333333333336|\n",
            "|     unknown|divorced| 50.92307692307692|\n",
            "|  technician|divorced| 42.05297157622739|\n",
            "|entrepreneur|divorced| 44.10614525139665|\n",
            "|     student|  single|25.555825242718445|\n",
            "|  unemployed| unknown|              47.2|\n",
            "|  unemployed| married| 41.69668246445497|\n",
            "|  management| unknown|              51.0|\n",
            "|     student| married|30.634146341463413|\n",
            "|      admin.| married| 40.29874333587205|\n",
            "|  management| married| 43.75634274772619|\n",
            "|entrepreneur| unknown|              34.0|\n",
            "+------------+--------+------------------+\n",
            "only showing top 20 rows\n",
            "\n"
          ]
        }
      ],
      "source": [
        "avg_age_ = df1.groupBy(\"job\", \"marital\").avg(\"age\")\n",
        "avg_age_.show()"
      ]
    },
    {
      "cell_type": "markdown",
      "metadata": {
        "id": "DCT17jH_HmRY"
      },
      "source": [
        "## 4. What will be the max and min duration of the customer call duration?"
      ]
    },
    {
      "cell_type": "code",
      "execution_count": 26,
      "metadata": {
        "colab": {
          "base_uri": "https://localhost:8080/"
        },
        "id": "9HAmH0KeHHT1",
        "outputId": "67d78f4e-fc5d-4b88-b20c-887c0f91dad3"
      },
      "outputs": [
        {
          "name": "stdout",
          "output_type": "stream",
          "text": [
            "+-----------------+\n",
            "|Max call duration|\n",
            "+-----------------+\n",
            "|             4918|\n",
            "+-----------------+\n",
            "\n"
          ]
        }
      ],
      "source": [
        "from pyspark.sql.functions import max\n",
        "\n",
        "max_call = df2.agg(max(\"duration\").alias(\"Max call duration\"))\n",
        "max_call.show()"
      ]
    },
    {
      "cell_type": "code",
      "execution_count": 27,
      "metadata": {
        "colab": {
          "base_uri": "https://localhost:8080/"
        },
        "id": "5zjgu-yWIAVf",
        "outputId": "616f0336-30f2-4ca7-c951-2a5ca583a9d8"
      },
      "outputs": [
        {
          "name": "stdout",
          "output_type": "stream",
          "text": [
            "+-----------------+\n",
            "|Min call duration|\n",
            "+-----------------+\n",
            "|                0|\n",
            "+-----------------+\n",
            "\n"
          ]
        }
      ],
      "source": [
        "from pyspark.sql.functions import min\n",
        "\n",
        "min_call = df2.agg(min(\"duration\").alias(\"Min call duration\"))\n",
        "min_call.show()"
      ]
    },
    {
      "cell_type": "markdown",
      "metadata": {
        "id": "IXmCfiVAIS9i"
      },
      "source": [
        "## 5. Pivot the marital status and job based on their average age."
      ]
    },
    {
      "cell_type": "code",
      "execution_count": 31,
      "metadata": {
        "colab": {
          "base_uri": "https://localhost:8080/"
        },
        "id": "AwRU3cowIR_c",
        "outputId": "f953a063-1c32-4fe3-d8ef-d09aa8ade52e"
      },
      "outputs": [
        {
          "name": "stdout",
          "output_type": "stream",
          "text": [
            "+--------+------------------+------------------+------------------+------------------+------------------+------------------+-----------------+-----------------+------------------+-----------------+------------------+------------------+\n",
            "| marital|            admin.|       blue-collar|      entrepreneur|         housemaid|        management|           retired|    self-employed|         services|           student|       technician|        unemployed|           unknown|\n",
            "+--------+------------------+------------------+------------------+------------------+------------------+------------------+-----------------+-----------------+------------------+-----------------+------------------+------------------+\n",
            "| unknown|35.785714285714285| 41.57142857142857|              34.0|              40.0|              51.0|              61.0|             39.4|             40.0|              30.0|            32.75|              47.2|40.333333333333336|\n",
            "|divorced|       43.28203125| 42.84065934065934| 44.10614525139665| 49.62111801242236|46.190332326283986| 64.45689655172414|42.75187969924812|42.08458646616541|34.888888888888886|42.05297157622739|42.604838709677416| 50.92307692307692|\n",
            "| married| 40.29874333587205| 40.89139865370232|42.527544351073765|45.745173745173744| 43.75634274772619|61.836606441476825|42.23366555924695|39.87521815008726|30.634146341463413|40.75579176887435| 41.69668246445497| 48.27038626609442|\n",
            "|  single|33.645935483870964|33.342465753424655| 35.49261083743843| 38.46218487394958| 33.97205588822355| 55.68817204301075|33.53298153034301|32.04225352112676|25.555825242718445|33.71916010498688|33.254980079681275|36.608108108108105|\n",
            "+--------+------------------+------------------+------------------+------------------+------------------+------------------+-----------------+-----------------+------------------+-----------------+------------------+------------------+\n",
            "\n"
          ]
        }
      ],
      "source": [
        "pivot_age = df1.groupBy(\"marital\").pivot(\"job\").avg(\"age\")\n",
        "pivot_age.show()"
      ]
    }
  ],
  "metadata": {
    "accelerator": "GPU",
    "colab": {
      "gpuType": "T4",
      "provenance": []
    },
    "kernelspec": {
      "display_name": "Python 3",
      "name": "python3"
    },
    "language_info": {
      "name": "python"
    }
  },
  "nbformat": 4,
  "nbformat_minor": 0
}
